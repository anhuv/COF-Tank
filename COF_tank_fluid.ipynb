{
  "nbformat": 4,
  "nbformat_minor": 0,
  "metadata": {
    "colab": {
      "name": "COF_tank_fluid.ipynb",
      "provenance": [],
      "collapsed_sections": [],
      "toc_visible": true,
      "authorship_tag": "ABX9TyNsn3oU7MyLagxWySSOpxnS",
      "include_colab_link": true
    },
    "kernelspec": {
      "display_name": "Python 3",
      "name": "python3"
    },
    "language_info": {
      "name": "python"
    }
  },
  "cells": [
    {
      "cell_type": "markdown",
      "metadata": {
        "id": "view-in-github",
        "colab_type": "text"
      },
      "source": [
        "<a href=\"https://colab.research.google.com/github/ungvietanh20172394/COF-Tank/blob/main/COF_tank_fluid.ipynb\" target=\"_parent\"><img src=\"https://colab.research.google.com/assets/colab-badge.svg\" alt=\"Open In Colab\"/></a>"
      ]
    },
    {
      "cell_type": "code",
      "metadata": {
        "id": "as6k3U43azlv"
      },
      "source": [
        "import math\n",
        "import random\n",
        "import numpy as np\n",
        "import time\n",
        "import pandas as pd"
      ],
      "execution_count": 2,
      "outputs": []
    },
    {
      "cell_type": "code",
      "metadata": {
        "id": "onmFOPW4bx13"
      },
      "source": [
        "_C1 = 31623.0\n",
        "_C10 = 9.744\n",
        "_C11 = 0.145\n",
        "_C12 = 1.8\n",
        "_C13 = 6.29\n",
        "_C14 = 1.0\n",
        "_C15 = 4.685\n",
        "_C16 = 30.89\n",
        "_C17 = 0.001481\n",
        "_C18 = 0.005\n",
        "_C19 = 1.085\n",
        "_C2 = 1000.0\n",
        "_C20 = 1.013\n",
        "_C21 = 5328.0\n",
        "_C22 = 5.8\n",
        "_C23 = 0.45\n",
        "_C24 = 2.6\n",
        "_C25 = 0.0296 \n",
        "_C26 = 100.0 \n",
        "_C27 = 1.0 \n",
        "_C28 = 1000.0 \n",
        "_C29 = 0.0004303 \n",
        "_C3 = 4536.0 \n",
        "_C30 = 9.76E-08 \n",
        "_C31 = 864.0\n",
        "_C32 = 0.543\n",
        "_C33 = 0.0815\n",
        "_C34 = 86.4 \n",
        "_C35 = 2.382\n",
        "_C36 = 30.5\n",
        "_C37 = 1.408E-08\n",
        "_C38 = 1.1341\n",
        "_C39 = 3.9365\n",
        "_C4 = 2.205 \n",
        "_C40 = 5.9352 \n",
        "_C5 = 25.2 \n",
        "_C6 = 55.6 \n",
        "_C7 = 1.0 \n",
        "_C8 = 0.0929\n",
        "_C9 = 0.123"
      ],
      "execution_count": 3,
      "outputs": []
    },
    {
      "cell_type": "code",
      "metadata": {
        "id": "z0WGSHz0b5yP"
      },
      "source": [
        "obj = [0.00072, 0, 0, 0.000002, 0.00072, 5000, 0, 0, 120000, 5, 0, 0, 50]\n",
        "class CA_TANK_BOTTOM:\n",
        "    def __init__(self, Soil_type, TANK_FLUID, Swg, TANK_DIAMETER, FLUID_HEIGHT, PREVENTION_BARRIER, EnvironSensitivity, MATERIAL_COST, PRODUCTION_COST, P_lvdike,P_onsite,P_offsite,Concrete_Asphalt):\n",
        "        self.Soil_type = Soil_type\n",
        "        self.TANK_FLUID = TANK_FLUID\n",
        "        self.Swg = Swg\n",
        "        self.TANK_DIAMETER = TANK_DIAMETER\n",
        "        self.FLUID_HEIGHT = FLUID_HEIGHT\n",
        "        # self.API_COMPONENT_TYPE_NAME = API_COMPONENT_TYPE_NAME\n",
        "        self.PREVENTION_BARRIER = PREVENTION_BARRIER\n",
        "        self.EnvironSensitivity =EnvironSensitivity\n",
        "        self.MATERIAL_COST = MATERIAL_COST\n",
        "        self.PRODUCTION_COST = PRODUCTION_COST\n",
        "        self.P_lvdike = P_lvdike\n",
        "        self.P_onsite = P_onsite\n",
        "        self.P_offsite = P_offsite\n",
        "        self.Concrete_Asphalt = Concrete_Asphalt\n",
        "\n",
        "    def FC_Category(self, fc):\n",
        "        if (fc <= 10000):\n",
        "            return \"A\"\n",
        "        elif (fc <= 100000):\n",
        "            return \"B\"\n",
        "        elif (fc <= 1000000):\n",
        "            return \"C\"\n",
        "        elif (fc <= 10000000):\n",
        "            return \"D\"\n",
        "        else:\n",
        "            return \"E\"\n",
        "\n",
        "    def n_rh(self, i):\n",
        "        if (i==4):\n",
        "            return 1\n",
        "        else:\n",
        "            C36 = _C36\n",
        "            return max(pow(self.TANK_DIAMETER / C36, 2), 1)\n",
        "\n",
        "    def k_h_bottom(self):\n",
        "        k_h = [0, 0, 0]\n",
        "        if (self.Soil_type == \"Coarse Sand\"):\n",
        "            k_h[0] = 0.1\n",
        "            k_h[1] = 0.01\n",
        "            k_h[2] = 0.33\n",
        "        elif(self.Soil_type == \"Fine Sand\"):\n",
        "            k_h[0] = 0.01\n",
        "            k_h[1] = 0.001\n",
        "            k_h[2] = 0.33\n",
        "        elif(self.Soil_type == \"Very Fine Sand\"):\n",
        "            k_h[0] = pow(10, -3)\n",
        "            k_h[1] = pow(10, -5)\n",
        "            k_h[2] = 0.33\n",
        "        elif(self.Soil_type == \"Silt\"):\n",
        "            k_h[0] = pow(10, -5)\n",
        "            k_h[1] = pow(10, -6)\n",
        "            k_h[2] = 0.41\n",
        "        elif(self.Soil_type == \"Sandy Clay\"):\n",
        "            k_h[0] = pow(10, -6)\n",
        "            k_h[1] = pow(10, -7)\n",
        "            k_h[2] = 0.45\n",
        "        elif(self.Soil_type == \"Clay\"):\n",
        "            k_h[0] = pow(10, -7)\n",
        "            k_h[1] = pow(10, -8)\n",
        "            k_h[2] = 0.5\n",
        "        elif(self.Soil_type == \"Concrete-Asphalt\"):\n",
        "            k_h[0] = pow(10, -10)\n",
        "            k_h[1] = pow(10, -11)\n",
        "            k_h[2] = 0.3\n",
        "        else:\n",
        "            k_h[0] = 1\n",
        "            k_h[1] = 0.1\n",
        "            k_h[2] = 0.4\n",
        "        return k_h\n",
        "\n",
        "    def k_h_water(self):\n",
        "        C31 = _C31\n",
        "        k_h = self.k_h_bottom()\n",
        "        return C31 * (k_h[0] + k_h[1]) / 2\n",
        "\n",
        "    def dn_bottom(self, i):\n",
        "        if (i == 1):\n",
        "            if (self.PREVENTION_BARRIER):\n",
        "                dn = 3.175\n",
        "            else:\n",
        "                dn = 12.7\n",
        "        elif (i == 4):\n",
        "            dn = 250 * self.TANK_DIAMETER\n",
        "        else:\n",
        "            dn = 0\n",
        "        return dn\n",
        "\n",
        "    def rate_n_tank_bottom(self, i):\n",
        "        try:\n",
        "            C33 = _C33\n",
        "            C34 = _C34\n",
        "            C35 = _C35\n",
        "            C37 = _C37\n",
        "            C38 = _C38\n",
        "            C39 = _C39\n",
        "            C40 = _C40\n",
        "            if (self.PREVENTION_BARRIER):\n",
        "                ps= pow(self.dn_bottom(i),1.8)/(0.21*pow(0.0762,0.4))\n",
        "                if (self.k_h_prod() > C34 * pow(self.dn_bottom(i), 2)):\n",
        "                    return C33 * math.pi * self.dn_bottom(i) * math.sqrt(2 * 1 * 0.0762) * self.n_rh(i)\n",
        "                elif (self.k_h_prod() <= C37 * pow(ps,(1 / 0.74))):\n",
        "                    return C35 * 0.21 * pow(self.dn_bottom(i), 0.2) * pow(0.0762, 0.9) * pow(self.k_h_prod(),0.74) * self.n_rh(i)\n",
        "                else:\n",
        "                    m = C40 - 0.4324 * math.log10(self.dn_bottom(i)) + 0.5405 * math.log10(0.0762)\n",
        "                    return C38 * pow(10,2 * math.log10(self.dn_bottom(i)) + 0.5 * math.log10(0.0762) - 0.74 * pow((C39 * 2 * math.log10(self.dn_bottom(i)) - math.log10(self.k_h_prod())) / m, m))\n",
        "            else:\n",
        "                ps = pow(self.dn_bottom(i), 1.8) / (0.21 * pow(self.FLUID_HEIGHT, 0.4))\n",
        "                if (self.k_h_prod() > C34 * pow(self.dn_bottom(i), 2)):\n",
        "                    return C33 * math.pi * self.dn_bottom(i) * math.sqrt(2 * 1 * self.FLUID_HEIGHT) * self.n_rh(i)\n",
        "                elif (self.k_h_prod() <= C37*pow(ps,(1/0.74))):\n",
        "                    return C35 * 0.21 * pow(self.dn_bottom(i), 0.2) * pow(self.FLUID_HEIGHT, 0.9) * pow(self.k_h_prod(), 0.74) * self.n_rh(i)\n",
        "                else:\n",
        "                    m = C40-0.4324*math.log10(self.dn_bottom(i)) + 0.5405*math.log10(self.FLUID_HEIGHT)\n",
        "                    return C38*pow(10,2*math.log10(self.dn_bottom(i))+0.5*math.log10(self.FLUID_HEIGHT)-0.74*pow((C39 * 2*math.log10(self.dn_bottom(i))-math.log10(self.k_h_prod()))/m,m))\n",
        "        except Exception as e:\n",
        "            print(\"Error rate_n_tank_bottom:\", e)\n",
        "\n",
        "    def t_ld_tank_bottom(self):\n",
        "        if (self.Concrete_Asphalt):\n",
        "            return 7\n",
        "        elif (self.PREVENTION_BARRIER):\n",
        "            return 30\n",
        "        else:\n",
        "            return 360\n",
        "\n",
        "    def BBL_TOTAL_TANKBOTTOM(self):\n",
        "        return math.pi * pow(self.TANK_DIAMETER, 2) * self.FLUID_HEIGHT / (4 * _C13)\n",
        "\n",
        "    def ld_n_tank_bottom(self, i):\n",
        "        try:\n",
        "            Bbl_total_tank_bottom = (math.pi * pow(self.TANK_DIAMETER, 2) * self.FLUID_HEIGHT * _C13) / 4\n",
        "            if self.rate_n_tank_bottom(i) == 0:\n",
        "                return self.t_ld_tank_bottom()\n",
        "            else:\n",
        "                return min(float(Bbl_total_tank_bottom) / self.rate_n_tank_bottom(i), self.t_ld_tank_bottom())\n",
        "        except Exception as e:\n",
        "            print(\"Error ld_n_tank_bottom:\",e)\n",
        "\n",
        "    def Bbl_leak_n_bottom(self, i):\n",
        "        Bbl_total_tank_bottom = (math.pi * pow(self.TANK_DIAMETER, 2) * self.FLUID_HEIGHT * _C13) / (4)\n",
        "        return min(self.rate_n_tank_bottom(i) * self.ld_n_tank_bottom(i), Bbl_total_tank_bottom)\n",
        "\n",
        "    def Bbl_rupture_bottom(self):\n",
        "        Bbl_total_tank_bottom = (math.pi * pow(self.TANK_DIAMETER, 2) * self.FLUID_HEIGHT* _C13) / (4)\n",
        "        return Bbl_total_tank_bottom\n",
        "\n",
        "    def GET_PL_UL(self):\n",
        "        data = [0, 0]\n",
        "        if (self.TANK_FLUID == \"Gasoline\"):\n",
        "            data[0] = 684.018\n",
        "            data[1] = 4.01 * pow(10, -3)\n",
        "        elif(self.TANK_FLUID == \"Light Diesel Oil\"):\n",
        "            data[0] = 734.011\n",
        "            data[1] = 1.04 * pow(10, -3)\n",
        "        elif(self.TANK_FLUID == \"Heavy Diesel Oil\"):\n",
        "            data[0] = 764.527\n",
        "            data[1] = 2.46 * pow(10, -3)\n",
        "        elif(self.TANK_FLUID == \"Fuel Oil\"):\n",
        "            data[0] = 775.019\n",
        "            data[1] = 3.69 * pow(10, -2)\n",
        "        elif (self.TANK_FLUID == \"Crude Oil\"):\n",
        "            data[0] = 775.019\n",
        "            data[1] = 3.69 * pow(10, -2)\n",
        "        elif (self.TANK_FLUID == \"Heavy Crude Oil\"):\n",
        "            data[0] = 900.026\n",
        "            data[1] = 4.6 * pow(10, -2)\n",
        "        elif (self.TANK_FLUID == \"Heavy Fuel Oil\"):\n",
        "            data[0] = 900.026\n",
        "            data[1] = 4.6 * pow(10, -2)\n",
        "        else:\n",
        "            data[0] = 1000\n",
        "            data[1] = 1\n",
        "        return data\n",
        "\n",
        "    def k_h_prod(self):\n",
        "        pl_ul = self.GET_PL_UL()\n",
        "        return self.k_h_water() * (pl_ul[0] / 1000) * (1 / pl_ul[1])\n",
        "\n",
        "    def vel_s_prod(self):\n",
        "        kh = self.k_h_bottom()\n",
        "        return self.k_h_prod() / kh[2]\n",
        "\n",
        "    def t_gl_bottom(self):\n",
        "        try:\n",
        "            return self.Swg / self.vel_s_prod()\n",
        "        except:\n",
        "            return 1\n",
        "\n",
        "    def Bbl_leak_groundwater(self, i):\n",
        "        try:\n",
        "            if (self.t_gl_bottom() < self.t_ld_tank_bottom()):\n",
        "                return self.Bbl_leak_n_bottom(i) * ((self.t_ld_tank_bottom() - self.t_gl_bottom()) / self.t_ld_tank_bottom())\n",
        "            else:\n",
        "                return 0\n",
        "        except:\n",
        "            return 0\n",
        "\n",
        "    def Bbl_leak_subsoil(self, i):\n",
        "        return self.Bbl_leak_n_bottom(i) - self.Bbl_leak_groundwater(i)\n",
        "\n",
        "    def getCost(self):\n",
        "        costTANK = [0, 0, 0, 0, 0, 0]\n",
        "        if (self.EnvironSensitivity == \"High\"):\n",
        "            costTANK[0] = 10\n",
        "            costTANK[1] = 50\n",
        "            costTANK[2] = 500\n",
        "            costTANK[3] = 3000\n",
        "            costTANK[4] = 10000\n",
        "            costTANK[5] = 5000\n",
        "        elif (self.EnvironSensitivity == \"Medium\"):\n",
        "            costTANK[0] = 10\n",
        "            costTANK[1] = 50\n",
        "            costTANK[2] = 250\n",
        "            costTANK[3] = 1500\n",
        "            costTANK[4] = 5000\n",
        "            costTANK[5] = 1500\n",
        "        elif (self.EnvironSensitivity == \"Low\"):\n",
        "            costTANK[0] = 10\n",
        "            costTANK[1] = 50\n",
        "            costTANK[2] = 100\n",
        "            costTANK[3] = 500\n",
        "            costTANK[4] = 1000\n",
        "            costTANK[5] = 500\n",
        "        else:\n",
        "            costTANK[0] = 0\n",
        "            costTANK[1] = 0\n",
        "            costTANK[2] = 0\n",
        "            costTANK[3] = 0\n",
        "            costTANK[4] = 0\n",
        "            costTANK[5] = 0\n",
        "        return costTANK\n",
        "\n",
        "    def FC_leak_environ_bottom(self):\n",
        "        cost = self.getCost()\n",
        "        summa = 0\n",
        "        for i in range(1,4):\n",
        "            summa = summa +(self.Bbl_leak_groundwater(i) * cost[4] + self.Bbl_leak_subsoil(i) * cost[3])*obj[i-1]\n",
        "        if(self.TANK_FLUID == \"Water\"):\n",
        "            return 0\n",
        "        else:\n",
        "            return summa/obj[4]\n",
        "\n",
        "    def Bbl_rupture_release_bottom(self):\n",
        "        Bbl_total_tank_bottom = (math.pi * pow(self.TANK_DIAMETER, 2) * self.FLUID_HEIGHT* _C13) / (4)\n",
        "        return (Bbl_total_tank_bottom * obj[3]) / obj[4]\n",
        "\n",
        "    def Bbl_rupture_indike_bottom(self):\n",
        "        indike = self.Bbl_rupture_release_bottom() * (1 - self.P_lvdike / 100)\n",
        "        if(indike > 0):\n",
        "            return indike\n",
        "        else:\n",
        "            return 0\n",
        "\n",
        "    def Bbl_rupture_ssonsite_bottom(self):\n",
        "        onsite = self.P_onsite * (self.Bbl_rupture_release_bottom() - self.Bbl_rupture_indike_bottom()) / 100\n",
        "        if(onsite > 0):\n",
        "            return onsite\n",
        "        else:\n",
        "            return 0\n",
        "\n",
        "    def Bbl_rupture_ssoffsite_bottom(self):\n",
        "        offsite = self.P_offsite * (self.Bbl_rupture_release_bottom() - self.Bbl_rupture_indike_bottom() - self.Bbl_rupture_ssonsite_bottom()) / 100\n",
        "        if(offsite > 0):\n",
        "            return offsite\n",
        "        else:\n",
        "            return 0\n",
        "\n",
        "    def Bbl_rupture_water_bottom(self):\n",
        "        water = self.Bbl_rupture_release_bottom() - (self.Bbl_rupture_indike_bottom() + self.Bbl_rupture_ssonsite_bottom() + self.Bbl_rupture_ssoffsite_bottom())\n",
        "        if(water > 0):\n",
        "            return water\n",
        "        else:\n",
        "            return 0\n",
        "\n",
        "    def FC_rupture_environ_bottom(self):\n",
        "        cost = self.getCost()\n",
        "        if (self.TANK_FLUID == \"Water\"):\n",
        "            return 0\n",
        "        else:\n",
        "            return self.Bbl_rupture_indike_bottom() * cost[0] + self.Bbl_rupture_ssonsite_bottom() * cost[1] + self.Bbl_rupture_ssoffsite_bottom() * cost[2] + self.Bbl_rupture_water_bottom() * cost[5]\n",
        "\n",
        "    def FC_environ_bottom(self):\n",
        "        return self.FC_leak_environ_bottom() + self.FC_rupture_environ_bottom()\n",
        "\n",
        "    def FC_cmd_bottom(self):\n",
        "        summ = obj[0] * obj[5] + obj[1] * obj[6] + obj[2] * obj[7] + obj[3] * obj[8] * pow(self.TANK_DIAMETER / _C36, 2)\n",
        "        return summ * self.MATERIAL_COST / obj[4]\n",
        "\n",
        "    def FC_PROD_BOTTOM(self):\n",
        "        t = obj[0] * obj[9] + obj[1] * obj[10] + obj[2] * obj[11] + obj[3] * obj[12]\n",
        "        return t * self.PRODUCTION_COST / obj[4]\n",
        "\n",
        "    def FC_total_bottom(self):\n",
        "        FC_TOTAL_BOTTOM = self.FC_cmd_bottom() + self.FC_environ_bottom() + self.FC_PROD_BOTTOM()\n",
        "        if FC_TOTAL_BOTTOM == 0:\n",
        "            return 100000000\n",
        "        else:\n",
        "            return  FC_TOTAL_BOTTOM"
      ],
      "execution_count": 4,
      "outputs": []
    },
    {
      "cell_type": "code",
      "metadata": {
        "id": "25uyY3F3dfoQ"
      },
      "source": [
        "height= []\n",
        "lst1 = []\n",
        "lst2 = []\n",
        "lst3= []\n",
        "a = []\n",
        "for x in range(3,200,27):\n",
        "  for y1 in range(0, 100, 5):\n",
        "    for y2 in range(0, 100, 5):\n",
        "      for y3 in range(0, 100, 5):\n",
        "        rwequipment_typeofsoil = \"Clay\"\n",
        "        rwstream_tankfluidname = \"Gasoline\"\n",
        "        rwequipment_distancetogroundwater = 2\n",
        "        rwcomponent_diameter = 2\n",
        "        rwstream_fluidheight = x\n",
        "        apicomponenttypename = \"Tank\"\n",
        "        rwcomponent_releasepreventionbarrier = True\n",
        "        rwequipment_environmentsensitivity   = \"Low\"\n",
        "        rwmaterial_costfactor = 5\n",
        "        rwinputca_productioncost = 1\n",
        "        rwstream_fluidleavedikepercent = y1\n",
        "        rwstream_fluidleavedikeremainonsitepercent = y2\n",
        "        rwstream_fluidgooffsitepercent = y3\n",
        "        rwcomponent_concretefoundation = False\n",
        "        cacal = CA_TANK_BOTTOM(Soil_type = rwequipment_typeofsoil, TANK_FLUID=rwstream_tankfluidname, Swg=rwequipment_distancetogroundwater, TANK_DIAMETER=rwcomponent_diameter, \n",
        "                            FLUID_HEIGHT=rwstream_fluidheight,\n",
        "                            PREVENTION_BARRIER=bool(rwcomponent_releasepreventionbarrier), EnvironSensitivity=rwequipment_environmentsensitivity, MATERIAL_COST=rwmaterial_costfactor,\n",
        "                            PRODUCTION_COST=rwinputca_productioncost, P_lvdike=rwstream_fluidleavedikepercent, P_onsite = rwstream_fluidleavedikeremainonsitepercent,\n",
        "                            P_offsite = rwstream_fluidgooffsitepercent, Concrete_Asphalt = rwcomponent_concretefoundation)\n",
        "        height.append(x)\n",
        "        lst1.append(y1)\n",
        "        lst2.append(y2)\n",
        "        lst3.append(y3)\n",
        "        a.append(cacal.FC_total_bottom())"
      ],
      "execution_count": 60,
      "outputs": []
    },
    {
      "cell_type": "code",
      "metadata": {
        "colab": {
          "base_uri": "https://localhost:8080/",
          "height": 282
        },
        "id": "sSQQX-J4dmjf",
        "outputId": "80f99c25-c16a-4a80-84bb-308de23de8e8"
      },
      "source": [
        "import matplotlib.pyplot as plt\n",
        "plt.plot(a)\n",
        "plt.show"
      ],
      "execution_count": 61,
      "outputs": [
        {
          "output_type": "execute_result",
          "data": {
            "text/plain": [
              "<function matplotlib.pyplot.show>"
            ]
          },
          "metadata": {
            "tags": []
          },
          "execution_count": 61
        },
        {
          "output_type": "display_data",
          "data": {
            "image/png": "[encoded data removed]",
            "text/plain": [
              "<Figure size 432x288 with 1 Axes>"
            ]
          },
          "metadata": {
            "tags": [],
            "needs_background": "light"
          }
        }
      ]
    },
    {
      "cell_type": "code",
      "metadata": {
        "id": "6ZOUPllmduQD",
        "colab": {
          "base_uri": "https://localhost:8080/"
        },
        "outputId": "4a48530d-e155-40a0-c2aa-0acc13093197"
      },
      "source": [
        "y1max = max(lst1)\n",
        "y2max = max(lst2)\n",
        "y3max = max(lst3)\n",
        "maxHeight = max(height)\n",
        "maxResult = max(a)\n",
        "print(y1max,maxResult,maxHeight)"
      ],
      "execution_count": 62,
      "outputs": [
        {
          "output_type": "stream",
          "text": [
            "95 30894.18575892643 192\n"
          ],
          "name": "stdout"
        }
      ]
    },
    {
      "cell_type": "code",
      "metadata": {
        "id": "H6n2Tlx0dv5H"
      },
      "source": [
        "rwstream_fluidleavedikepercent_arr = np.array(lst1)/100\n",
        "rwstream_fluidleavedikeremainonsitepercent_arr = np.array(lst2)/100\n",
        "rwstream_fluidgooffsitepercent_arr = np.array(lst3)/100\n",
        "# HeightArr = np.array(height)/maxHeight\n",
        "HeightArr = np.round(np.array(height)/maxHeight*100,0).astype(int)\n",
        "result_arr = np.array(a)/maxResult"
      ],
      "execution_count": 63,
      "outputs": []
    },
    {
      "cell_type": "code",
      "metadata": {
        "colab": {
          "base_uri": "https://localhost:8080/"
        },
        "id": "P8NYGLh0hXUz",
        "outputId": "f130b41e-1278-457f-d2c5-a1be31cd73d1"
      },
      "source": [
        "haha = np.round(56294995342131.5, 0).astype(int)\n",
        "haha.dtype\n",
        "haha"
      ],
      "execution_count": null,
      "outputs": [
        {
          "output_type": "execute_result",
          "data": {
            "text/plain": [
              "56294995342132"
            ]
          },
          "metadata": {
            "tags": []
          },
          "execution_count": 19
        }
      ]
    },
    {
      "cell_type": "code",
      "metadata": {
        "colab": {
          "base_uri": "https://localhost:8080/"
        },
        "id": "eAZmLzRzd0N2",
        "outputId": "6fc7bb92-2ab0-49ef-f6ce-37ae0fddc15b"
      },
      "source": [
        "cof = {'height': HeightArr,\n",
        "        'rwstream_fluidleavedikepercent': rwstream_fluidleavedikepercent_arr,\n",
        "        'rwstream_fluidleavedikeremainonsitepercent': rwstream_fluidleavedikeremainonsitepercent_arr,\n",
        "        'rwstream_fluidgooffsitepercent': rwstream_fluidgooffsitepercent_arr,\n",
        "        'cof': result_arr\n",
        "        }\n",
        "\n",
        "df = pd.DataFrame(cof, columns= ['height',\n",
        "        'rwstream_fluidleavedikepercent',\n",
        "        'rwstream_fluidleavedikeremainonsitepercent',\n",
        "        'rwstream_fluidgooffsitepercent',\n",
        "        'cof'])\n",
        "\n",
        "# df.to_csv (r\"cofTank.csv\", index = False, header=True)\n",
        "\n",
        "print (df)"
      ],
      "execution_count": 64,
      "outputs": [
        {
          "output_type": "stream",
          "text": [
            "       height  ...       cof\n",
            "0           2  ...  0.837845\n",
            "1           2  ...  0.837845\n",
            "2           2  ...  0.837845\n",
            "3           2  ...  0.837845\n",
            "4           2  ...  0.837845\n",
            "...       ...  ...       ...\n",
            "63995     100  ...  0.856597\n",
            "63996     100  ...  0.856273\n",
            "63997     100  ...  0.855948\n",
            "63998     100  ...  0.855624\n",
            "63999     100  ...  0.855300\n",
            "\n",
            "[64000 rows x 5 columns]\n"
          ],
          "name": "stdout"
        }
      ]
    },
    {
      "cell_type": "code",
      "metadata": {
        "id": "5_5644god444"
      },
      "source": [
        "import tensorflow as tf\n",
        "\n",
        "from tensorflow import keras\n",
        "from tensorflow.keras import layers\n",
        "from tensorflow.keras.layers.experimental import preprocessing"
      ],
      "execution_count": 65,
      "outputs": []
    },
    {
      "cell_type": "code",
      "metadata": {
        "colab": {
          "base_uri": "https://localhost:8080/",
          "height": 221
        },
        "id": "E4TdbK-Xd-pf",
        "outputId": "a4207855-d145-4319-b6bd-c50cd54a15eb"
      },
      "source": [
        "# Split the data into train and test\n",
        "train_dataset = df.sample(frac=0.8, random_state=0)\n",
        "test_dataset = df.drop(train_dataset.index)\n",
        "\n",
        "print(df.shape, train_dataset.shape, test_dataset.shape)\n",
        "train_dataset.describe().transpose()"
      ],
      "execution_count": 66,
      "outputs": [
        {
          "output_type": "stream",
          "text": [
            "(64000, 5) (51200, 5) (12800, 5)\n"
          ],
          "name": "stdout"
        },
        {
          "output_type": "execute_result",
          "data": {
            "text/html": [
              "<div>\n",
              "<style scoped>\n",
              "    .dataframe tbody tr th:only-of-type {\n",
              "        vertical-align: middle;\n",
              "    }\n",
              "\n",
              "    .dataframe tbody tr th {\n",
              "        vertical-align: top;\n",
              "    }\n",
              "\n",
              "    .dataframe thead th {\n",
              "        text-align: right;\n",
              "    }\n",
              "</style>\n",
              "<table border=\"1\" class=\"dataframe\">\n",
              "  <thead>\n",
              "    <tr style=\"text-align: right;\">\n",
              "      <th></th>\n",
              "      <th>count</th>\n",
              "      <th>mean</th>\n",
              "      <th>std</th>\n",
              "      <th>min</th>\n",
              "      <th>25%</th>\n",
              "      <th>50%</th>\n",
              "      <th>75%</th>\n",
              "      <th>max</th>\n",
              "    </tr>\n",
              "  </thead>\n",
              "  <tbody>\n",
              "    <tr>\n",
              "      <th>height</th>\n",
              "      <td>51200.0</td>\n",
              "      <td>50.976758</td>\n",
              "      <td>32.056608</td>\n",
              "      <td>2.000000</td>\n",
              "      <td>30.000000</td>\n",
              "      <td>58.000000</td>\n",
              "      <td>72.000000</td>\n",
              "      <td>100.00</td>\n",
              "    </tr>\n",
              "    <tr>\n",
              "      <th>rwstream_fluidleavedikepercent</th>\n",
              "      <td>51200.0</td>\n",
              "      <td>0.474802</td>\n",
              "      <td>0.288466</td>\n",
              "      <td>0.000000</td>\n",
              "      <td>0.200000</td>\n",
              "      <td>0.450000</td>\n",
              "      <td>0.700000</td>\n",
              "      <td>0.95</td>\n",
              "    </tr>\n",
              "    <tr>\n",
              "      <th>rwstream_fluidleavedikeremainonsitepercent</th>\n",
              "      <td>51200.0</td>\n",
              "      <td>0.475785</td>\n",
              "      <td>0.288599</td>\n",
              "      <td>0.000000</td>\n",
              "      <td>0.250000</td>\n",
              "      <td>0.500000</td>\n",
              "      <td>0.750000</td>\n",
              "      <td>0.95</td>\n",
              "    </tr>\n",
              "    <tr>\n",
              "      <th>rwstream_fluidgooffsitepercent</th>\n",
              "      <td>51200.0</td>\n",
              "      <td>0.475860</td>\n",
              "      <td>0.288080</td>\n",
              "      <td>0.000000</td>\n",
              "      <td>0.250000</td>\n",
              "      <td>0.500000</td>\n",
              "      <td>0.750000</td>\n",
              "      <td>0.95</td>\n",
              "    </tr>\n",
              "    <tr>\n",
              "      <th>cof</th>\n",
              "      <td>51200.0</td>\n",
              "      <td>0.853964</td>\n",
              "      <td>0.018609</td>\n",
              "      <td>0.837845</td>\n",
              "      <td>0.841203</td>\n",
              "      <td>0.847706</td>\n",
              "      <td>0.859719</td>\n",
              "      <td>1.00</td>\n",
              "    </tr>\n",
              "  </tbody>\n",
              "</table>\n",
              "</div>"
            ],
            "text/plain": [
              "                                              count  ...     max\n",
              "height                                      51200.0  ...  100.00\n",
              "rwstream_fluidleavedikepercent              51200.0  ...    0.95\n",
              "rwstream_fluidleavedikeremainonsitepercent  51200.0  ...    0.95\n",
              "rwstream_fluidgooffsitepercent              51200.0  ...    0.95\n",
              "cof                                         51200.0  ...    1.00\n",
              "\n",
              "[5 rows x 8 columns]"
            ]
          },
          "metadata": {
            "tags": []
          },
          "execution_count": 66
        }
      ]
    },
    {
      "cell_type": "code",
      "metadata": {
        "id": "xgDtBU_oeDdL"
      },
      "source": [
        "select = 'height'\n",
        "# split features from labels\n",
        "train_features = train_dataset.copy()\n",
        "train_features.drop(select, axis=1)\n",
        "test_features = test_dataset.copy()\n",
        "test_features.drop(select, axis=1)\n",
        "\n",
        "train_labels = train_features.pop(select)\n",
        "test_labels = test_features.pop(select)"
      ],
      "execution_count": 68,
      "outputs": []
    },
    {
      "cell_type": "code",
      "metadata": {
        "id": "4ux31hMylQIc"
      },
      "source": [
        "from keras.utils import to_categorical\n",
        "num_classes = 20\n",
        "\n",
        "y_train = to_categorical(train_labels, num_classes)\n",
        "y_test = to_categorical(test_labels, num_classes)"
      ],
      "execution_count": null,
      "outputs": []
    },
    {
      "cell_type": "code",
      "metadata": {
        "id": "vCj6UOjXfwEq"
      },
      "source": [
        "def plot(feature, x=None, y=None):\n",
        "    plt.figure(figsize=(10, 8))\n",
        "    plt.scatter(train_features[feature], train_labels, label='Data')\n",
        "    if x is not None and y is not None:\n",
        "        plt.plot(x, y, color='k', label='Predictions')\n",
        "    plt.xlabel(feature)\n",
        "    plt.ylabel('cof')\n",
        "    plt.legend()"
      ],
      "execution_count": null,
      "outputs": []
    },
    {
      "cell_type": "code",
      "metadata": {
        "colab": {
          "base_uri": "https://localhost:8080/",
          "height": 163
        },
        "id": "2xFl92EMf2hv",
        "outputId": "f109a242-17c6-43d4-9779-46b3625f0315"
      },
      "source": [
        "plot(select)"
      ],
      "execution_count": null,
      "outputs": [
        {
          "output_type": "error",
          "ename": "NameError",
          "evalue": "ignored",
          "traceback": [
            "\u001b[0;31m---------------------------------------------------------------------------\u001b[0m",
            "\u001b[0;31mNameError\u001b[0m                                 Traceback (most recent call last)",
            "\u001b[0;32m<ipython-input-100-d23ee516b67e>\u001b[0m in \u001b[0;36m<module>\u001b[0;34m()\u001b[0m\n\u001b[0;32m----> 1\u001b[0;31m \u001b[0mplot\u001b[0m\u001b[0;34m(\u001b[0m\u001b[0mselect\u001b[0m\u001b[0;34m)\u001b[0m\u001b[0;34m\u001b[0m\u001b[0;34m\u001b[0m\u001b[0m\n\u001b[0m",
            "\u001b[0;31mNameError\u001b[0m: name 'plot' is not defined"
          ]
        }
      ]
    },
    {
      "cell_type": "code",
      "metadata": {
        "id": "i-eIlsF0gNIa"
      },
      "source": [
        "from keras.models import Sequential\n",
        "from keras.layers import Dense, Dropout, Flatten, Conv2D, MaxPooling2D\n",
        "# multiple inputs\n",
        "linear_model = tf.keras.Sequential([\n",
        "    layers.Dense(units=4,activation=\"relu\"),\n",
        "    layers.Dropout(0.5),\n",
        "    layers.Dense(units=256,activation=\"relu\"),\n",
        "    layers.Dense(128, activation='relu'),\n",
        "    layers.Dropout(0.5),\n",
        "    layers.Dense(64, activation='relu'),\n",
        "    layers.Dropout(0.5),\n",
        "    layers.Dense(1, activation='relu')\n",
        "])\n",
        "linear_model.compile(loss='mean_absolute_error',\n",
        "      optimizer='adam',\n",
        "      metrics=['accuracy'])"
      ],
      "execution_count": null,
      "outputs": []
    },
    {
      "cell_type": "code",
      "metadata": {
        "colab": {
          "base_uri": "https://localhost:8080/",
          "height": 697
        },
        "id": "B5BG-zP9mVTo",
        "outputId": "24ecd08e-3ff1-425e-d716-6c0354812ce8"
      },
      "source": [
        "X = np.asarray(train_features).astype(np.float32)\n",
        "# train_labels \n",
        "linear_model.fit(\n",
        "    X, train_labels, epochs=100\n",
        "    )"
      ],
      "execution_count": null,
      "outputs": [
        {
          "output_type": "stream",
          "text": [
            "Epoch 1/100\n",
            "8000/8000 [==============================] - 15s 2ms/step - loss: 27.5694 - accuracy: 0.0245\n",
            "Epoch 2/100\n",
            "8000/8000 [==============================] - 14s 2ms/step - loss: 26.2604 - accuracy: 0.0252\n",
            "Epoch 3/100\n",
            "8000/8000 [==============================] - 14s 2ms/step - loss: 24.0799 - accuracy: 0.0253\n",
            "Epoch 4/100\n",
            "8000/8000 [==============================] - 14s 2ms/step - loss: 23.4107 - accuracy: 0.0256\n",
            "Epoch 5/100\n",
            "8000/8000 [==============================] - 14s 2ms/step - loss: 23.1592 - accuracy: 0.0250\n",
            "Epoch 6/100\n",
            "8000/8000 [==============================] - 14s 2ms/step - loss: 23.1689 - accuracy: 0.0253\n",
            "Epoch 7/100\n",
            "8000/8000 [==============================] - 14s 2ms/step - loss: 23.0148 - accuracy: 0.0252\n",
            "Epoch 8/100\n",
            "8000/8000 [==============================] - 14s 2ms/step - loss: 23.0030 - accuracy: 0.0255\n",
            "Epoch 9/100\n",
            "8000/8000 [==============================] - 14s 2ms/step - loss: 22.9917 - accuracy: 0.0250\n",
            "Epoch 10/100\n",
            "2065/8000 [======>.......................] - ETA: 10s - loss: 23.0348 - accuracy: 0.0250"
          ],
          "name": "stdout"
        },
        {
          "output_type": "error",
          "ename": "KeyboardInterrupt",
          "evalue": "ignored",
          "traceback": [
            "\u001b[0;31m---------------------------------------------------------------------------\u001b[0m",
            "\u001b[0;31mKeyboardInterrupt\u001b[0m                         Traceback (most recent call last)",
            "\u001b[0;32m<ipython-input-29-18f29bc6e6f1>\u001b[0m in \u001b[0;36m<module>\u001b[0;34m()\u001b[0m\n\u001b[1;32m      2\u001b[0m \u001b[0;31m# train_labels\u001b[0m\u001b[0;34m\u001b[0m\u001b[0;34m\u001b[0m\u001b[0;34m\u001b[0m\u001b[0m\n\u001b[1;32m      3\u001b[0m linear_model.fit(\n\u001b[0;32m----> 4\u001b[0;31m     \u001b[0mX\u001b[0m\u001b[0;34m,\u001b[0m \u001b[0mtrain_labels\u001b[0m\u001b[0;34m,\u001b[0m \u001b[0mepochs\u001b[0m\u001b[0;34m=\u001b[0m\u001b[0;36m100\u001b[0m\u001b[0;34m\u001b[0m\u001b[0;34m\u001b[0m\u001b[0m\n\u001b[0m\u001b[1;32m      5\u001b[0m     )\n",
            "\u001b[0;32m/usr/local/lib/python3.7/dist-packages/tensorflow/python/keras/engine/training.py\u001b[0m in \u001b[0;36mfit\u001b[0;34m(self, x, y, batch_size, epochs, verbose, callbacks, validation_split, validation_data, shuffle, class_weight, sample_weight, initial_epoch, steps_per_epoch, validation_steps, validation_batch_size, validation_freq, max_queue_size, workers, use_multiprocessing)\u001b[0m\n\u001b[1;32m   1098\u001b[0m                 _r=1):\n\u001b[1;32m   1099\u001b[0m               \u001b[0mcallbacks\u001b[0m\u001b[0;34m.\u001b[0m\u001b[0mon_train_batch_begin\u001b[0m\u001b[0;34m(\u001b[0m\u001b[0mstep\u001b[0m\u001b[0;34m)\u001b[0m\u001b[0;34m\u001b[0m\u001b[0;34m\u001b[0m\u001b[0m\n\u001b[0;32m-> 1100\u001b[0;31m               \u001b[0mtmp_logs\u001b[0m \u001b[0;34m=\u001b[0m \u001b[0mself\u001b[0m\u001b[0;34m.\u001b[0m\u001b[0mtrain_function\u001b[0m\u001b[0;34m(\u001b[0m\u001b[0miterator\u001b[0m\u001b[0;34m)\u001b[0m\u001b[0;34m\u001b[0m\u001b[0;34m\u001b[0m\u001b[0m\n\u001b[0m\u001b[1;32m   1101\u001b[0m               \u001b[0;32mif\u001b[0m \u001b[0mdata_handler\u001b[0m\u001b[0;34m.\u001b[0m\u001b[0mshould_sync\u001b[0m\u001b[0;34m:\u001b[0m\u001b[0;34m\u001b[0m\u001b[0;34m\u001b[0m\u001b[0m\n\u001b[1;32m   1102\u001b[0m                 \u001b[0mcontext\u001b[0m\u001b[0;34m.\u001b[0m\u001b[0masync_wait\u001b[0m\u001b[0;34m(\u001b[0m\u001b[0;34m)\u001b[0m\u001b[0;34m\u001b[0m\u001b[0;34m\u001b[0m\u001b[0m\n",
            "\u001b[0;32m/usr/local/lib/python3.7/dist-packages/tensorflow/python/eager/def_function.py\u001b[0m in \u001b[0;36m__call__\u001b[0;34m(self, *args, **kwds)\u001b[0m\n\u001b[1;32m    826\u001b[0m     \u001b[0mtracing_count\u001b[0m \u001b[0;34m=\u001b[0m \u001b[0mself\u001b[0m\u001b[0;34m.\u001b[0m\u001b[0mexperimental_get_tracing_count\u001b[0m\u001b[0;34m(\u001b[0m\u001b[0;34m)\u001b[0m\u001b[0;34m\u001b[0m\u001b[0;34m\u001b[0m\u001b[0m\n\u001b[1;32m    827\u001b[0m     \u001b[0;32mwith\u001b[0m \u001b[0mtrace\u001b[0m\u001b[0;34m.\u001b[0m\u001b[0mTrace\u001b[0m\u001b[0;34m(\u001b[0m\u001b[0mself\u001b[0m\u001b[0;34m.\u001b[0m\u001b[0m_name\u001b[0m\u001b[0;34m)\u001b[0m \u001b[0;32mas\u001b[0m \u001b[0mtm\u001b[0m\u001b[0;34m:\u001b[0m\u001b[0;34m\u001b[0m\u001b[0;34m\u001b[0m\u001b[0m\n\u001b[0;32m--> 828\u001b[0;31m       \u001b[0mresult\u001b[0m \u001b[0;34m=\u001b[0m \u001b[0mself\u001b[0m\u001b[0;34m.\u001b[0m\u001b[0m_call\u001b[0m\u001b[0;34m(\u001b[0m\u001b[0;34m*\u001b[0m\u001b[0margs\u001b[0m\u001b[0;34m,\u001b[0m \u001b[0;34m**\u001b[0m\u001b[0mkwds\u001b[0m\u001b[0;34m)\u001b[0m\u001b[0;34m\u001b[0m\u001b[0;34m\u001b[0m\u001b[0m\n\u001b[0m\u001b[1;32m    829\u001b[0m       \u001b[0mcompiler\u001b[0m \u001b[0;34m=\u001b[0m \u001b[0;34m\"xla\"\u001b[0m \u001b[0;32mif\u001b[0m \u001b[0mself\u001b[0m\u001b[0;34m.\u001b[0m\u001b[0m_experimental_compile\u001b[0m \u001b[0;32melse\u001b[0m \u001b[0;34m\"nonXla\"\u001b[0m\u001b[0;34m\u001b[0m\u001b[0;34m\u001b[0m\u001b[0m\n\u001b[1;32m    830\u001b[0m       \u001b[0mnew_tracing_count\u001b[0m \u001b[0;34m=\u001b[0m \u001b[0mself\u001b[0m\u001b[0;34m.\u001b[0m\u001b[0mexperimental_get_tracing_count\u001b[0m\u001b[0;34m(\u001b[0m\u001b[0;34m)\u001b[0m\u001b[0;34m\u001b[0m\u001b[0;34m\u001b[0m\u001b[0m\n",
            "\u001b[0;32m/usr/local/lib/python3.7/dist-packages/tensorflow/python/eager/def_function.py\u001b[0m in \u001b[0;36m_call\u001b[0;34m(self, *args, **kwds)\u001b[0m\n\u001b[1;32m    853\u001b[0m       \u001b[0;31m# In this case we have created variables on the first call, so we run the\u001b[0m\u001b[0;34m\u001b[0m\u001b[0;34m\u001b[0m\u001b[0;34m\u001b[0m\u001b[0m\n\u001b[1;32m    854\u001b[0m       \u001b[0;31m# defunned version which is guaranteed to never create variables.\u001b[0m\u001b[0;34m\u001b[0m\u001b[0;34m\u001b[0m\u001b[0;34m\u001b[0m\u001b[0m\n\u001b[0;32m--> 855\u001b[0;31m       \u001b[0;32mreturn\u001b[0m \u001b[0mself\u001b[0m\u001b[0;34m.\u001b[0m\u001b[0m_stateless_fn\u001b[0m\u001b[0;34m(\u001b[0m\u001b[0;34m*\u001b[0m\u001b[0margs\u001b[0m\u001b[0;34m,\u001b[0m \u001b[0;34m**\u001b[0m\u001b[0mkwds\u001b[0m\u001b[0;34m)\u001b[0m  \u001b[0;31m# pylint: disable=not-callable\u001b[0m\u001b[0;34m\u001b[0m\u001b[0;34m\u001b[0m\u001b[0m\n\u001b[0m\u001b[1;32m    856\u001b[0m     \u001b[0;32melif\u001b[0m \u001b[0mself\u001b[0m\u001b[0;34m.\u001b[0m\u001b[0m_stateful_fn\u001b[0m \u001b[0;32mis\u001b[0m \u001b[0;32mnot\u001b[0m \u001b[0;32mNone\u001b[0m\u001b[0;34m:\u001b[0m\u001b[0;34m\u001b[0m\u001b[0;34m\u001b[0m\u001b[0m\n\u001b[1;32m    857\u001b[0m       \u001b[0;31m# Release the lock early so that multiple threads can perform the call\u001b[0m\u001b[0;34m\u001b[0m\u001b[0;34m\u001b[0m\u001b[0;34m\u001b[0m\u001b[0m\n",
            "\u001b[0;32m/usr/local/lib/python3.7/dist-packages/tensorflow/python/eager/function.py\u001b[0m in \u001b[0;36m__call__\u001b[0;34m(self, *args, **kwargs)\u001b[0m\n\u001b[1;32m   2941\u001b[0m        filtered_flat_args) = self._maybe_define_function(args, kwargs)\n\u001b[1;32m   2942\u001b[0m     return graph_function._call_flat(\n\u001b[0;32m-> 2943\u001b[0;31m         filtered_flat_args, captured_inputs=graph_function.captured_inputs)  # pylint: disable=protected-access\n\u001b[0m\u001b[1;32m   2944\u001b[0m \u001b[0;34m\u001b[0m\u001b[0m\n\u001b[1;32m   2945\u001b[0m   \u001b[0;34m@\u001b[0m\u001b[0mproperty\u001b[0m\u001b[0;34m\u001b[0m\u001b[0;34m\u001b[0m\u001b[0m\n",
            "\u001b[0;32m/usr/local/lib/python3.7/dist-packages/tensorflow/python/eager/function.py\u001b[0m in \u001b[0;36m_call_flat\u001b[0;34m(self, args, captured_inputs, cancellation_manager)\u001b[0m\n\u001b[1;32m   1917\u001b[0m       \u001b[0;31m# No tape is watching; skip to running the function.\u001b[0m\u001b[0;34m\u001b[0m\u001b[0;34m\u001b[0m\u001b[0;34m\u001b[0m\u001b[0m\n\u001b[1;32m   1918\u001b[0m       return self._build_call_outputs(self._inference_function.call(\n\u001b[0;32m-> 1919\u001b[0;31m           ctx, args, cancellation_manager=cancellation_manager))\n\u001b[0m\u001b[1;32m   1920\u001b[0m     forward_backward = self._select_forward_and_backward_functions(\n\u001b[1;32m   1921\u001b[0m         \u001b[0margs\u001b[0m\u001b[0;34m,\u001b[0m\u001b[0;34m\u001b[0m\u001b[0;34m\u001b[0m\u001b[0m\n",
            "\u001b[0;32m/usr/local/lib/python3.7/dist-packages/tensorflow/python/eager/function.py\u001b[0m in \u001b[0;36mcall\u001b[0;34m(self, ctx, args, cancellation_manager)\u001b[0m\n\u001b[1;32m    558\u001b[0m               \u001b[0minputs\u001b[0m\u001b[0;34m=\u001b[0m\u001b[0margs\u001b[0m\u001b[0;34m,\u001b[0m\u001b[0;34m\u001b[0m\u001b[0;34m\u001b[0m\u001b[0m\n\u001b[1;32m    559\u001b[0m               \u001b[0mattrs\u001b[0m\u001b[0;34m=\u001b[0m\u001b[0mattrs\u001b[0m\u001b[0;34m,\u001b[0m\u001b[0;34m\u001b[0m\u001b[0;34m\u001b[0m\u001b[0m\n\u001b[0;32m--> 560\u001b[0;31m               ctx=ctx)\n\u001b[0m\u001b[1;32m    561\u001b[0m         \u001b[0;32melse\u001b[0m\u001b[0;34m:\u001b[0m\u001b[0;34m\u001b[0m\u001b[0;34m\u001b[0m\u001b[0m\n\u001b[1;32m    562\u001b[0m           outputs = execute.execute_with_cancellation(\n",
            "\u001b[0;32m/usr/local/lib/python3.7/dist-packages/tensorflow/python/eager/execute.py\u001b[0m in \u001b[0;36mquick_execute\u001b[0;34m(op_name, num_outputs, inputs, attrs, ctx, name)\u001b[0m\n\u001b[1;32m     58\u001b[0m     \u001b[0mctx\u001b[0m\u001b[0;34m.\u001b[0m\u001b[0mensure_initialized\u001b[0m\u001b[0;34m(\u001b[0m\u001b[0;34m)\u001b[0m\u001b[0;34m\u001b[0m\u001b[0;34m\u001b[0m\u001b[0m\n\u001b[1;32m     59\u001b[0m     tensors = pywrap_tfe.TFE_Py_Execute(ctx._handle, device_name, op_name,\n\u001b[0;32m---> 60\u001b[0;31m                                         inputs, attrs, num_outputs)\n\u001b[0m\u001b[1;32m     61\u001b[0m   \u001b[0;32mexcept\u001b[0m \u001b[0mcore\u001b[0m\u001b[0;34m.\u001b[0m\u001b[0m_NotOkStatusException\u001b[0m \u001b[0;32mas\u001b[0m \u001b[0me\u001b[0m\u001b[0;34m:\u001b[0m\u001b[0;34m\u001b[0m\u001b[0;34m\u001b[0m\u001b[0m\n\u001b[1;32m     62\u001b[0m     \u001b[0;32mif\u001b[0m \u001b[0mname\u001b[0m \u001b[0;32mis\u001b[0m \u001b[0;32mnot\u001b[0m \u001b[0;32mNone\u001b[0m\u001b[0;34m:\u001b[0m\u001b[0;34m\u001b[0m\u001b[0;34m\u001b[0m\u001b[0m\n",
            "\u001b[0;31mKeyboardInterrupt\u001b[0m: "
          ]
        }
      ]
    },
    {
      "cell_type": "code",
      "metadata": {
        "id": "Lzjy46E-m52h"
      },
      "source": [
        "y_pred_height = model.predict(X_test)"
      ],
      "execution_count": null,
      "outputs": []
    },
    {
      "cell_type": "code",
      "metadata": {
        "id": "y26lfkKxln56"
      },
      "source": [
        "from keras.models import Sequential\n",
        "from keras.layers import Dense, Dropout, Flatten, Conv2D, MaxPooling2D\n",
        "# multiple inputs\n",
        "model = tf.keras.Sequential([\n",
        "    layers.Dense(units=4,activation=\"relu\"),\n",
        "    layers.Dropout(0.5),\n",
        "    layers.Dense(units=256,activation=\"relu\"),\n",
        "    layers.Dense(128, activation='relu'),\n",
        "    layers.Dropout(0.5),\n",
        "    layers.Dense(64, activation='relu'),\n",
        "    layers.Dropout(0.5),\n",
        "    layers.Dense(20, activation='softmax')\n",
        "])"
      ],
      "execution_count": null,
      "outputs": []
    },
    {
      "cell_type": "code",
      "metadata": {
        "id": "q8GW3sujlaWh"
      },
      "source": [
        "model.compile(loss='sparse_categorical_crossentropy',\n",
        "      optimizer='adam',\n",
        "      metrics=['accuracy'])"
      ],
      "execution_count": null,
      "outputs": []
    },
    {
      "cell_type": "code",
      "metadata": {
        "colab": {
          "base_uri": "https://localhost:8080/"
        },
        "id": "xfgEFSBelKl5",
        "outputId": "6c92f454-078c-4b5c-e23f-af9fe2994530"
      },
      "source": [
        "train_labels"
      ],
      "execution_count": null,
      "outputs": [
        {
          "output_type": "execute_result",
          "data": {
            "text/plain": [
              "259531    0.821429\n",
              "111186    0.336735\n",
              "91989     0.285714\n",
              "212048    0.668367\n",
              "219920    0.693878\n",
              "            ...   \n",
              "9707      0.030612\n",
              "49150     0.158163\n",
              "70041     0.209184\n",
              "309485    0.974490\n",
              "275027    0.872449\n",
              "Name: height, Length: 256000, dtype: float64"
            ]
          },
          "metadata": {
            "tags": []
          },
          "execution_count": 163
        }
      ]
    },
    {
      "cell_type": "code",
      "metadata": {
        "id": "3i4hL0UgrB83"
      },
      "source": [
        "from sklearn.linear_model import LinearRegression\n",
        "reg = LinearRegression().fit(X, train_labels)"
      ],
      "execution_count": null,
      "outputs": []
    },
    {
      "cell_type": "code",
      "metadata": {
        "id": "JyrJPMf9rJAI",
        "colab": {
          "base_uri": "https://localhost:8080/",
          "height": 163
        },
        "outputId": "57cb9b91-7c39-4740-abe8-28023fd5f4fa"
      },
      "source": [
        "predictlinearsklearn = reg.predict(X_test)"
      ],
      "execution_count": null,
      "outputs": [
        {
          "output_type": "error",
          "ename": "NameError",
          "evalue": "ignored",
          "traceback": [
            "\u001b[0;31m---------------------------------------------------------------------------\u001b[0m",
            "\u001b[0;31mNameError\u001b[0m                                 Traceback (most recent call last)",
            "\u001b[0;32m<ipython-input-31-a501415326e1>\u001b[0m in \u001b[0;36m<module>\u001b[0;34m()\u001b[0m\n\u001b[0;32m----> 1\u001b[0;31m \u001b[0mpredictlinearsklearn\u001b[0m \u001b[0;34m=\u001b[0m \u001b[0mreg\u001b[0m\u001b[0;34m.\u001b[0m\u001b[0mpredict\u001b[0m\u001b[0;34m(\u001b[0m\u001b[0mX_test\u001b[0m\u001b[0;34m)\u001b[0m\u001b[0;34m\u001b[0m\u001b[0;34m\u001b[0m\u001b[0m\n\u001b[0m",
            "\u001b[0;31mNameError\u001b[0m: name 'X_test' is not defined"
          ]
        }
      ]
    },
    {
      "cell_type": "code",
      "metadata": {
        "id": "aReN6o4rmTvi"
      },
      "source": [
        "\n",
        "X = np.asarray(train_features).astype(np.float32)\n",
        "# train_labels \n",
        "model.fit(\n",
        "    X, train_labels, epochs=100\n",
        "    )\n",
        "# score = model.evaluate(test_features, y_test, verbose=0)\n",
        "# print('Test loss:', score[0])\n",
        "# print('Test accuracy:', score[1])\n",
        "# model.save(\"test_model.h5\")"
      ],
      "execution_count": null,
      "outputs": []
    },
    {
      "cell_type": "code",
      "metadata": {
        "colab": {
          "base_uri": "https://localhost:8080/"
        },
        "id": "B5a9f8I6n3Zs",
        "outputId": "77e66b15-9863-43be-82fb-288c3f91fb24"
      },
      "source": [
        "y_test[2893\n",
        "       ]"
      ],
      "execution_count": null,
      "outputs": [
        {
          "output_type": "execute_result",
          "data": {
            "text/plain": [
              "array([1., 0., 0., 0., 0., 0., 0., 0., 0., 0., 0., 0., 0., 0., 0., 0., 0.,\n",
              "       0., 0., 0.], dtype=float32)"
            ]
          },
          "metadata": {
            "tags": []
          },
          "execution_count": 58
        }
      ]
    },
    {
      "cell_type": "code",
      "metadata": {
        "colab": {
          "base_uri": "https://localhost:8080/",
          "height": 197
        },
        "id": "CvA395dooX-K",
        "outputId": "1cf71dfb-1bd7-4735-e774-bab865de6e01"
      },
      "source": [
        "import matplotlib.pyplot as plt\n",
        "plt.plot(y_test)\n",
        "plt.show"
      ],
      "execution_count": null,
      "outputs": [
        {
          "output_type": "error",
          "ename": "NameError",
          "evalue": "ignored",
          "traceback": [
            "\u001b[0;31m---------------------------------------------------------------------------\u001b[0m",
            "\u001b[0;31mNameError\u001b[0m                                 Traceback (most recent call last)",
            "\u001b[0;32m<ipython-input-33-b5d2f11c7dfe>\u001b[0m in \u001b[0;36m<module>\u001b[0;34m()\u001b[0m\n\u001b[1;32m      1\u001b[0m \u001b[0;32mimport\u001b[0m \u001b[0mmatplotlib\u001b[0m\u001b[0;34m.\u001b[0m\u001b[0mpyplot\u001b[0m \u001b[0;32mas\u001b[0m \u001b[0mplt\u001b[0m\u001b[0;34m\u001b[0m\u001b[0;34m\u001b[0m\u001b[0m\n\u001b[0;32m----> 2\u001b[0;31m \u001b[0mplt\u001b[0m\u001b[0;34m.\u001b[0m\u001b[0mplot\u001b[0m\u001b[0;34m(\u001b[0m\u001b[0my_test\u001b[0m\u001b[0;34m)\u001b[0m\u001b[0;34m\u001b[0m\u001b[0;34m\u001b[0m\u001b[0m\n\u001b[0m\u001b[1;32m      3\u001b[0m \u001b[0mplt\u001b[0m\u001b[0;34m.\u001b[0m\u001b[0mshow\u001b[0m\u001b[0;34m\u001b[0m\u001b[0;34m\u001b[0m\u001b[0m\n",
            "\u001b[0;31mNameError\u001b[0m: name 'y_test' is not defined"
          ]
        }
      ]
    },
    {
      "cell_type": "code",
      "metadata": {
        "id": "1LKDTz7tJ39m"
      },
      "source": [
        "# Load libraries\n",
        "import pandas as pd\n",
        "from sklearn.tree import DecisionTreeClassifier # Import Decision Tree Classifier\n",
        "from sklearn.model_selection import train_test_split # Import train_test_split function\n",
        "from sklearn import metrics #Import scikit-learn metrics module for accuracy calculation"
      ],
      "execution_count": 29,
      "outputs": []
    },
    {
      "cell_type": "code",
      "metadata": {
        "id": "mvEADyeuJ40g"
      },
      "source": [
        "# Create Decision Tree classifer object\n",
        "clf = DecisionTreeClassifier()\n",
        "\n",
        "# Train Decision Tree Classifer\n",
        "clf = clf.fit(X,(train_labels*100).astype(int))\n",
        "\n",
        "#Predict the response for test dataset\n",
        "# y_pred = clf.predict(X_test)"
      ],
      "execution_count": null,
      "outputs": []
    },
    {
      "cell_type": "code",
      "metadata": {
        "id": "73mS0JRmKnaF"
      },
      "source": [
        "X_test = np.asarray(test_features).astype(np.float32)\n",
        "y_pred = clf.predict(X_test)"
      ],
      "execution_count": null,
      "outputs": []
    },
    {
      "cell_type": "code",
      "metadata": {
        "colab": {
          "base_uri": "https://localhost:8080/"
        },
        "id": "w9CbpNpwLEau",
        "outputId": "4ce4b30c-7929-460f-a2e8-debbc94ee6be"
      },
      "source": [
        "y_pred/100"
      ],
      "execution_count": null,
      "outputs": [
        {
          "output_type": "execute_result",
          "data": {
            "text/plain": [
              "array([ 100,  100,  100, ..., 9700, 9700, 9700], dtype=int64)"
            ]
          },
          "metadata": {
            "tags": []
          },
          "execution_count": 44
        }
      ]
    },
    {
      "cell_type": "code",
      "metadata": {
        "id": "ki20sdfSLJYx"
      },
      "source": [
        ""
      ],
      "execution_count": null,
      "outputs": []
    },
    {
      "cell_type": "code",
      "metadata": {
        "colab": {
          "base_uri": "https://localhost:8080/"
        },
        "id": "SL_XPBBMK3DY",
        "outputId": "45f7d2ec-bcce-4d70-d3a5-b96c7f17a6db"
      },
      "source": [
        "[X_test[0]]\n"
      ],
      "execution_count": null,
      "outputs": [
        {
          "output_type": "execute_result",
          "data": {
            "text/plain": [
              "[array([0.00510204, 0.        , 0.05      , 0.83498776], dtype=float32)]"
            ]
          },
          "metadata": {
            "tags": []
          },
          "execution_count": 35
        }
      ]
    },
    {
      "cell_type": "code",
      "metadata": {
        "id": "r7H5CW-MLOeB"
      },
      "source": [
        "y_test0= test_labels*100"
      ],
      "execution_count": null,
      "outputs": []
    },
    {
      "cell_type": "code",
      "metadata": {
        "colab": {
          "base_uri": "https://localhost:8080/"
        },
        "id": "oF-f16rkMIC4",
        "outputId": "b67415f2-f383-4222-f3c6-b088e9770807"
      },
      "source": [
        "y_test0"
      ],
      "execution_count": null,
      "outputs": [
        {
          "output_type": "execute_result",
          "data": {
            "text/plain": [
              "1           0.510204\n",
              "4           0.510204\n",
              "21          0.510204\n",
              "22          0.510204\n",
              "27          0.510204\n",
              "             ...    \n",
              "319987    100.000000\n",
              "319989    100.000000\n",
              "319990    100.000000\n",
              "319991    100.000000\n",
              "319992    100.000000\n",
              "Name: height, Length: 64000, dtype: float64"
            ]
          },
          "metadata": {
            "tags": []
          },
          "execution_count": 154
        }
      ]
    },
    {
      "cell_type": "code",
      "metadata": {
        "id": "anfSlBqAMUwh"
      },
      "source": [
        "O = np.asarray(y_test0).astype(np.float32)\n"
      ],
      "execution_count": null,
      "outputs": []
    },
    {
      "cell_type": "code",
      "metadata": {
        "colab": {
          "base_uri": "https://localhost:8080/"
        },
        "id": "iyiZvdbZMYYQ",
        "outputId": "318aec43-d224-4685-c9e2-ccbeb2a39d52"
      },
      "source": [
        "O"
      ],
      "execution_count": null,
      "outputs": [
        {
          "output_type": "execute_result",
          "data": {
            "text/plain": [
              "array([  0.5102041,   0.5102041,   0.5102041, ..., 100.       ,\n",
              "       100.       , 100.       ], dtype=float32)"
            ]
          },
          "metadata": {
            "tags": []
          },
          "execution_count": 156
        }
      ]
    },
    {
      "cell_type": "code",
      "metadata": {
        "colab": {
          "base_uri": "https://localhost:8080/",
          "height": 248
        },
        "id": "_UiZqEoaLdH3",
        "outputId": "e78ef107-c6b4-4f95-f69b-904f1f1e8416"
      },
      "source": [
        "import matplotlib.pyplot as plt\n",
        "from matplotlib.pyplot import figure\n",
        "\n",
        "figure(figsize=(20, 6), dpi=80)\n",
        "# plt.plot(y_pred[31000:36000], 'r')\n",
        "# plt.plot(y_pred_forest_regressor[20000:30000], 'g')\n",
        "plt.plot(O[36000:], 'g')\n",
        "plt.plot(predictlinearsklearn[36000:] * 100, 'k')\n",
        "# plt.plot(y_after_load[31000:36000], 'm')\n",
        "plt.show"
      ],
      "execution_count": null,
      "outputs": [
        {
          "output_type": "error",
          "ename": "NameError",
          "evalue": "ignored",
          "traceback": [
            "\u001b[0;31m---------------------------------------------------------------------------\u001b[0m",
            "\u001b[0;31mNameError\u001b[0m                                 Traceback (most recent call last)",
            "\u001b[0;32m<ipython-input-37-ef4339a731c2>\u001b[0m in \u001b[0;36m<module>\u001b[0;34m()\u001b[0m\n\u001b[1;32m      5\u001b[0m \u001b[0;31m# plt.plot(y_pred[31000:36000], 'r')\u001b[0m\u001b[0;34m\u001b[0m\u001b[0;34m\u001b[0m\u001b[0;34m\u001b[0m\u001b[0m\n\u001b[1;32m      6\u001b[0m \u001b[0;31m# plt.plot(y_pred_forest_regressor[20000:30000], 'g')\u001b[0m\u001b[0;34m\u001b[0m\u001b[0;34m\u001b[0m\u001b[0;34m\u001b[0m\u001b[0m\n\u001b[0;32m----> 7\u001b[0;31m \u001b[0mplt\u001b[0m\u001b[0;34m.\u001b[0m\u001b[0mplot\u001b[0m\u001b[0;34m(\u001b[0m\u001b[0mO\u001b[0m\u001b[0;34m[\u001b[0m\u001b[0;36m36000\u001b[0m\u001b[0;34m:\u001b[0m\u001b[0;34m]\u001b[0m\u001b[0;34m,\u001b[0m \u001b[0;34m'g'\u001b[0m\u001b[0;34m)\u001b[0m\u001b[0;34m\u001b[0m\u001b[0;34m\u001b[0m\u001b[0m\n\u001b[0m\u001b[1;32m      8\u001b[0m \u001b[0mplt\u001b[0m\u001b[0;34m.\u001b[0m\u001b[0mplot\u001b[0m\u001b[0;34m(\u001b[0m\u001b[0mpredictlinearsklearn\u001b[0m\u001b[0;34m[\u001b[0m\u001b[0;36m36000\u001b[0m\u001b[0;34m:\u001b[0m\u001b[0;34m]\u001b[0m \u001b[0;34m*\u001b[0m \u001b[0;36m100\u001b[0m\u001b[0;34m,\u001b[0m \u001b[0;34m'k'\u001b[0m\u001b[0;34m)\u001b[0m\u001b[0;34m\u001b[0m\u001b[0;34m\u001b[0m\u001b[0m\n\u001b[1;32m      9\u001b[0m \u001b[0;31m# plt.plot(y_after_load[31000:36000], 'm')\u001b[0m\u001b[0;34m\u001b[0m\u001b[0;34m\u001b[0m\u001b[0;34m\u001b[0m\u001b[0m\n",
            "\u001b[0;31mNameError\u001b[0m: name 'O' is not defined"
          ]
        },
        {
          "output_type": "display_data",
          "data": {
            "text/plain": [
              "<Figure size 1600x480 with 0 Axes>"
            ]
          },
          "metadata": {
            "tags": []
          }
        }
      ]
    },
    {
      "cell_type": "code",
      "metadata": {
        "id": "g4s1H4ybW345"
      },
      "source": [
        "from sklearn.ensemble import RandomForestRegressor\n",
        "\n",
        "regressor = RandomForestRegressor(n_estimators=100, random_state=0)\n",
        "regressor.fit(X,(train_labels*100).astype(int))\n",
        "y_pred_forest_regressor = regressor.predict(X_test)"
      ],
      "execution_count": null,
      "outputs": []
    },
    {
      "cell_type": "code",
      "metadata": {
        "colab": {
          "base_uri": "https://localhost:8080/"
        },
        "id": "sPv41b3vXn13",
        "outputId": "bd479d66-00eb-4ed8-8a03-2ec7ba460d4b"
      },
      "source": [
        "y_pred_forest_regressor.shape"
      ],
      "execution_count": null,
      "outputs": [
        {
          "output_type": "execute_result",
          "data": {
            "text/plain": [
              "(64000,)"
            ]
          },
          "metadata": {
            "tags": []
          },
          "execution_count": 85
        }
      ]
    },
    {
      "cell_type": "code",
      "metadata": {
        "colab": {
          "base_uri": "https://localhost:8080/"
        },
        "id": "05IOMLSkYFky",
        "outputId": "f674d347-0b72-4869-8677-eb5a76e6504d"
      },
      "source": [
        "from sklearn.externals import joblib\n",
        "joblib.dump(clf, 'rwstream_fluidgooffsitepercent.pkl')"
      ],
      "execution_count": null,
      "outputs": [
        {
          "output_type": "execute_result",
          "data": {
            "text/plain": [
              "['rwstream_fluidgooffsitepercent.pkl']"
            ]
          },
          "metadata": {
            "tags": []
          },
          "execution_count": 133
        }
      ]
    },
    {
      "cell_type": "code",
      "metadata": {
        "id": "YmFePFv7ZgEw"
      },
      "source": [
        "model = joblib.load('rwstream_fluidgooffsitepercent.pkl')\n",
        "y_after_load = model.predict(X_test)"
      ],
      "execution_count": null,
      "outputs": []
    },
    {
      "cell_type": "markdown",
      "metadata": {
        "id": "gEeJGN8fjWcN"
      },
      "source": [
        "#height"
      ]
    },
    {
      "cell_type": "code",
      "metadata": {
        "colab": {
          "base_uri": "https://localhost:8080/",
          "height": 322
        },
        "id": "ia67cwrejX71",
        "outputId": "d4d5f699-5de8-4094-9959-30e868eacb68"
      },
      "source": [
        "import matplotlib.pyplot as plt\n",
        "from matplotlib.pyplot import figure\n",
        "a = 1300\n",
        "b= 21000\n",
        "\n",
        "figure(figsize=(20, 6), dpi=80)\n",
        "# plt.plot(y_pred[31000:36000], 'r')\n",
        "# plt.plot(y_pred_forest_regressor[20000:30000], 'g')\n",
        "# plt.plot(y_pred[a:b], 'k')\n",
        "# plt.plot(y_pred_ramdom[a:b], 'r')\n",
        "plt.plot(y_after_load[a:b], 'm')\n",
        "plt.plot(O[a:b], 'g')\n",
        "\n",
        "\n",
        "# plt.plot(y_after_load[31000:36000], 'm')\n",
        "plt.show"
      ],
      "execution_count": 91,
      "outputs": [
        {
          "output_type": "execute_result",
          "data": {
            "text/plain": [
              "<function matplotlib.pyplot.show>"
            ]
          },
          "metadata": {
            "tags": []
          },
          "execution_count": 91
        },
        {
          "output_type": "display_data",
          "data": {
            "image/png": "[encoded data removed]",
            "text/plain": [
              "<Figure size 1600x480 with 1 Axes>"
            ]
          },
          "metadata": {
            "tags": [],
            "needs_background": "light"
          }
        }
      ]
    },
    {
      "cell_type": "code",
      "metadata": {
        "id": "gD8OqTRZkAR3"
      },
      "source": [
        "# Create Decision Tree classifer object\n",
        "clf = DecisionTreeClassifier()\n",
        "X = np.asarray(train_features).astype(np.float32)\n",
        "# Train Decision Tree Classifer\n",
        "clf = clf.fit(X,(train_labels).astype(int))\n",
        "\n",
        "#Predict the response for test dataset\n",
        "# y_pred = clf.predict(X_test)\n",
        "X_test = np.asarray(test_features).astype(np.float32)\n",
        "y_pred = clf.predict(X_test)"
      ],
      "execution_count": 72,
      "outputs": []
    },
    {
      "cell_type": "code",
      "metadata": {
        "id": "jgri7h_slnRu"
      },
      "source": [
        "X = np.asarray(train_features).astype(np.float32)\n",
        "from sklearn.ensemble import RandomForestClassifier\n",
        "forest = RandomForestClassifier(max_depth=100, random_state=0)\n",
        "forest = forest.fit(X,(train_labels).astype(int))\n",
        "\n",
        "#Predict the response for test dataset\n",
        "# y_pred = clf.predict(X_test)\n",
        "X_test = np.asarray(test_features).astype(np.float32)\n",
        "y_pred_ramdom = forest.predict(X_test)"
      ],
      "execution_count": 74,
      "outputs": []
    },
    {
      "cell_type": "code",
      "metadata": {
        "colab": {
          "base_uri": "https://localhost:8080/"
        },
        "id": "2zgkUJpAkLkv",
        "outputId": "71da0940-55d7-464b-e36a-c461f3abcaf7"
      },
      "source": [
        "y_pred.shape"
      ],
      "execution_count": null,
      "outputs": [
        {
          "output_type": "execute_result",
          "data": {
            "text/plain": [
              "(64000,)"
            ]
          },
          "metadata": {
            "tags": []
          },
          "execution_count": 48
        }
      ]
    },
    {
      "cell_type": "code",
      "metadata": {
        "colab": {
          "base_uri": "https://localhost:8080/"
        },
        "id": "geclpCxakQpT",
        "outputId": "e25ed7a8-c3a4-4618-c858-b77f018b8e3f"
      },
      "source": [
        "test_features.shape"
      ],
      "execution_count": null,
      "outputs": [
        {
          "output_type": "execute_result",
          "data": {
            "text/plain": [
              "(64000, 4)"
            ]
          },
          "metadata": {
            "tags": []
          },
          "execution_count": 49
        }
      ]
    },
    {
      "cell_type": "code",
      "metadata": {
        "colab": {
          "base_uri": "https://localhost:8080/",
          "height": 204
        },
        "id": "mgQrKhlxkgRR",
        "outputId": "779ee04f-7ad4-47e2-d209-073348ab4c47"
      },
      "source": [
        "test_features.head()"
      ],
      "execution_count": null,
      "outputs": [
        {
          "output_type": "execute_result",
          "data": {
            "text/html": [
              "<div>\n",
              "<style scoped>\n",
              "    .dataframe tbody tr th:only-of-type {\n",
              "        vertical-align: middle;\n",
              "    }\n",
              "\n",
              "    .dataframe tbody tr th {\n",
              "        vertical-align: top;\n",
              "    }\n",
              "\n",
              "    .dataframe thead th {\n",
              "        text-align: right;\n",
              "    }\n",
              "</style>\n",
              "<table border=\"1\" class=\"dataframe\">\n",
              "  <thead>\n",
              "    <tr style=\"text-align: right;\">\n",
              "      <th></th>\n",
              "      <th>rwstream_fluidleavedikepercent</th>\n",
              "      <th>rwstream_fluidleavedikeremainonsitepercent</th>\n",
              "      <th>rwstream_fluidgooffsitepercent</th>\n",
              "      <th>cof</th>\n",
              "    </tr>\n",
              "  </thead>\n",
              "  <tbody>\n",
              "    <tr>\n",
              "      <th>1</th>\n",
              "      <td>0.0</td>\n",
              "      <td>0.00</td>\n",
              "      <td>0.05</td>\n",
              "      <td>0.834988</td>\n",
              "    </tr>\n",
              "    <tr>\n",
              "      <th>4</th>\n",
              "      <td>0.0</td>\n",
              "      <td>0.00</td>\n",
              "      <td>0.20</td>\n",
              "      <td>0.834988</td>\n",
              "    </tr>\n",
              "    <tr>\n",
              "      <th>21</th>\n",
              "      <td>0.0</td>\n",
              "      <td>0.05</td>\n",
              "      <td>0.05</td>\n",
              "      <td>0.834988</td>\n",
              "    </tr>\n",
              "    <tr>\n",
              "      <th>22</th>\n",
              "      <td>0.0</td>\n",
              "      <td>0.05</td>\n",
              "      <td>0.10</td>\n",
              "      <td>0.834988</td>\n",
              "    </tr>\n",
              "    <tr>\n",
              "      <th>27</th>\n",
              "      <td>0.0</td>\n",
              "      <td>0.05</td>\n",
              "      <td>0.35</td>\n",
              "      <td>0.834988</td>\n",
              "    </tr>\n",
              "  </tbody>\n",
              "</table>\n",
              "</div>"
            ],
            "text/plain": [
              "    rwstream_fluidleavedikepercent  ...       cof\n",
              "1                              0.0  ...  0.834988\n",
              "4                              0.0  ...  0.834988\n",
              "21                             0.0  ...  0.834988\n",
              "22                             0.0  ...  0.834988\n",
              "27                             0.0  ...  0.834988\n",
              "\n",
              "[5 rows x 4 columns]"
            ]
          },
          "metadata": {
            "tags": []
          },
          "execution_count": 52
        }
      ]
    },
    {
      "cell_type": "code",
      "metadata": {
        "colab": {
          "base_uri": "https://localhost:8080/"
        },
        "id": "nkoGZr4oktmO",
        "outputId": "84546bfe-a87c-4067-8895-8042e873515b"
      },
      "source": [
        "test_labels.shape"
      ],
      "execution_count": 69,
      "outputs": [
        {
          "output_type": "execute_result",
          "data": {
            "text/plain": [
              "(12800,)"
            ]
          },
          "metadata": {
            "tags": []
          },
          "execution_count": 69
        }
      ]
    },
    {
      "cell_type": "code",
      "metadata": {
        "id": "Ev1rnoBQk7Sq"
      },
      "source": [
        "O = np.asarray(test_labels).astype(np.float32)"
      ],
      "execution_count": 70,
      "outputs": []
    },
    {
      "cell_type": "code",
      "metadata": {
        "colab": {
          "base_uri": "https://localhost:8080/"
        },
        "id": "pFFr6C_3myhH",
        "outputId": "42584a6e-3a46-4562-87b8-a4ec6d8cc813"
      },
      "source": [
        "from sklearn.externals import joblib\n",
        "joblib.dump(clf, 'fludiHeightTank.pkl')"
      ],
      "execution_count": 87,
      "outputs": [
        {
          "output_type": "execute_result",
          "data": {
            "text/plain": [
              "['fludiHeightTank.pkl']"
            ]
          },
          "metadata": {
            "tags": []
          },
          "execution_count": 87
        }
      ]
    },
    {
      "cell_type": "code",
      "metadata": {
        "colab": {
          "base_uri": "https://localhost:8080/"
        },
        "id": "spddP6fzwaRX",
        "outputId": "02a19515-c2f7-458d-b9db-6e8946fdd33a"
      },
      "source": [
        "from sklearn.externals import joblib\n",
        "joblib.dump(forest, 'hihi.pkl')"
      ],
      "execution_count": 86,
      "outputs": [
        {
          "output_type": "execute_result",
          "data": {
            "text/plain": [
              "['hihi.pkl']"
            ]
          },
          "metadata": {
            "tags": []
          },
          "execution_count": 86
        }
      ]
    },
    {
      "cell_type": "code",
      "metadata": {
        "id": "zrcfsYNum7As"
      },
      "source": [
        "model = joblib.load('fludiHeightTank.pkl')\n",
        "y_after_load = model.predict(X_test)"
      ],
      "execution_count": 88,
      "outputs": []
    },
    {
      "cell_type": "code",
      "metadata": {
        "colab": {
          "base_uri": "https://localhost:8080/"
        },
        "id": "1eCTeP9qyxvY",
        "outputId": "785fb0fe-1b9e-4f1f-b9c5-7aa0c6ed5f09"
      },
      "source": [
        "m = 5321\n",
        "hihi = model.predict([X_test[m]])\n",
        "print(hihi)\n",
        "O[m]"
      ],
      "execution_count": 98,
      "outputs": [
        {
          "output_type": "stream",
          "text": [
            "[44]\n"
          ],
          "name": "stdout"
        },
        {
          "output_type": "execute_result",
          "data": {
            "text/plain": [
              "44.0"
            ]
          },
          "metadata": {
            "tags": []
          },
          "execution_count": 98
        }
      ]
    }
  ]
}