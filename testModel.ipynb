{
  "nbformat": 4,
  "nbformat_minor": 0,
  "metadata": {
    "colab": {
      "name": "testModel.ipynb",
      "provenance": [],
      "authorship_tag": "ABX9TyNoq0GD4yCU0+oDPwRy5NHv",
      "include_colab_link": true
    },
    "kernelspec": {
      "name": "python3",
      "display_name": "Python 3"
    },
    "language_info": {
      "name": "python"
    }
  },
  "cells": [
    {
      "cell_type": "markdown",
      "metadata": {
        "id": "view-in-github",
        "colab_type": "text"
      },
      "source": [
        "<a href=\"https://colab.research.google.com/github/ungvietanh20172394/COF-Tank/blob/main/testModel.ipynb\" target=\"_parent\"><img src=\"https://colab.research.google.com/assets/colab-badge.svg\" alt=\"Open In Colab\"/></a>"
      ]
    },
    {
      "cell_type": "code",
      "metadata": {
        "id": "RAdt1rB_fOkM"
      },
      "source": [
        "import joblib\n",
        "# from sklearn.tree import DecisionTreeClassifier\n",
        "import numpy as np"
      ],
      "execution_count": 1,
      "outputs": []
    },
    {
      "cell_type": "code",
      "metadata": {
        "id": "2WUqsUaCfbpo"
      },
      "source": [
        "def predictHeightFluid(leavedike, leavedikeremainonsite, gooffsite, cof):\n",
        "    model = joblib.load('fludiHeightTank.pkl')\n",
        "    input = np.array([leavedike, leavedikeremainonsite, gooffsite, cof])\n",
        "    result = model.predict([input])\n",
        "    return result[0]"
      ],
      "execution_count": 8,
      "outputs": []
    },
    {
      "cell_type": "code",
      "metadata": {
        "id": "OdO_VyPsfoQx"
      },
      "source": [
        "a = []\n",
        "for x in range(0,100,15):\n",
        "  for y in range(0,100,15):\n",
        "    for z in range(0,100,15):\n",
        "        for o in range(80,100,3):\n",
        "          a.append(predictHeightFluid(x/100, y/100, z/100, o/100))\n"
      ],
      "execution_count": 27,
      "outputs": []
    },
    {
      "cell_type": "code",
      "metadata": {
        "colab": {
          "base_uri": "https://localhost:8080/",
          "height": 265
        },
        "id": "hZLQLAmcg8Jh",
        "outputId": "ddf78bfb-c0a9-456f-8162-a1bb7508cce1"
      },
      "source": [
        "import matplotlib.pyplot as plt\n",
        "import numpy as np\n",
        "\n",
        "xpoints = np.array([0, 6])\n",
        "ypoints = np.array([0, 250])\n",
        "\n",
        "plt.plot(a[150:200])\n",
        "plt.show()"
      ],
      "execution_count": 31,
      "outputs": [
        {
          "output_type": "display_data",
          "data": {
            "image/png": "[encoded data removed]",
            "text/plain": [
              "<Figure size 432x288 with 1 Axes>"
            ]
          },
          "metadata": {
            "tags": [],
            "needs_background": "light"
          }
        }
      ]
    },
    {
      "cell_type": "code",
      "metadata": {
        "colab": {
          "base_uri": "https://localhost:8080/"
        },
        "id": "21bAnBlphtjo",
        "outputId": "f4899120-4ea3-415d-f7fe-b415e088482a"
      },
      "source": [
        "print(\"haha\")"
      ],
      "execution_count": 26,
      "outputs": [
        {
          "output_type": "stream",
          "text": [
            "haha\n"
          ],
          "name": "stdout"
        }
      ]
    }
  ]
}