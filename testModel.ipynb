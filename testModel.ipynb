{
  "nbformat": 4,
  "nbformat_minor": 0,
  "metadata": {
    "colab": {
      "name": "testModel.ipynb",
      "provenance": [],
      "authorship_tag": "ABX9TyMKNcVysOaIl5oU5dlx5exR",
      "include_colab_link": true
    },
    "kernelspec": {
      "name": "python3",
      "display_name": "Python 3"
    },
    "language_info": {
      "name": "python"
    }
  },
  "cells": [
    {
      "cell_type": "markdown",
      "metadata": {
        "id": "view-in-github",
        "colab_type": "text"
      },
      "source": [
        "<a href=\"https://colab.research.google.com/github/ungvietanh20172394/COF-Tank/blob/main/testModel.ipynb\" target=\"_parent\"><img src=\"https://colab.research.google.com/assets/colab-badge.svg\" alt=\"Open In Colab\"/></a>"
      ]
    },
    {
      "cell_type": "code",
      "metadata": {
        "id": "RAdt1rB_fOkM"
      },
      "source": [
        "import joblib\n",
        "# from sklearn.tree import DecisionTreeClassifier\n",
        "import numpy as np"
      ],
      "execution_count": 9,
      "outputs": []
    },
    {
      "cell_type": "code",
      "metadata": {
        "id": "2WUqsUaCfbpo"
      },
      "source": [
        "def predictHeightFluid(leavedike, leavedikeremainonsite, gooffsite, cof):\n",
        "    model = joblib.load('fludiHeightTank.pkl')\n",
        "    input = np.array([leavedike, leavedikeremainonsite, gooffsite, cof])\n",
        "    result = model.predict([input])\n",
        "    return result[0]"
      ],
      "execution_count": 10,
      "outputs": []
    },
    {
      "cell_type": "code",
      "metadata": {
        "id": "OdO_VyPsfoQx"
      },
      "source": [
        "a = []\n",
        "for x in range(0,100,15):\n",
        "  for y in range(0,100,15):\n",
        "    for z in range(0,100,15):\n",
        "        for o in range(80,100,3):\n",
        "          a.append(predictHeightFluid(x/100, y/100, z/100, o/100))\n"
      ],
      "execution_count": null,
      "outputs": []
    },
    {
      "cell_type": "code",
      "metadata": {
        "colab": {
          "base_uri": "https://localhost:8080/",
          "height": 265
        },
        "id": "hZLQLAmcg8Jh",
        "outputId": "ddf78bfb-c0a9-456f-8162-a1bb7508cce1"
      },
      "source": [
        "import matplotlib.pyplot as plt\n",
        "import numpy as np\n",
        "\n",
        "xpoints = np.array([0, 6])\n",
        "ypoints = np.array([0, 250])\n",
        "\n",
        "plt.plot(a[150:200])\n",
        "plt.show()"
      ],
      "execution_count": null,
      "outputs": [
        {
          "output_type": "display_data",
          "data": {
            "image/png": "[encoded data removed]",
            "text/plain": [
              "<Figure size 432x288 with 1 Axes>"
            ]
          },
          "metadata": {
            "tags": [],
            "needs_background": "light"
          }
        }
      ]
    },
    {
      "cell_type": "code",
      "metadata": {
        "colab": {
          "base_uri": "https://localhost:8080/"
        },
        "id": "21bAnBlphtjo",
        "outputId": "f4899120-4ea3-415d-f7fe-b415e088482a"
      },
      "source": [
        "print(\"haha\")"
      ],
      "execution_count": null,
      "outputs": [
        {
          "output_type": "stream",
          "text": [
            "haha\n"
          ],
          "name": "stdout"
        }
      ]
    },
    {
      "cell_type": "code",
      "metadata": {
        "id": "STcV0jZqiSFv"
      },
      "source": [
        "import math\n",
        "import random\n",
        "import numpy as np\n",
        "import time\n",
        "import pandas as pd"
      ],
      "execution_count": 2,
      "outputs": []
    },
    {
      "cell_type": "code",
      "metadata": {
        "id": "w0lU1o6oitei"
      },
      "source": [
        "_C1 = 31623.0\n",
        "_C10 = 9.744\n",
        "_C11 = 0.145\n",
        "_C12 = 1.8\n",
        "_C13 = 6.29\n",
        "_C14 = 1.0\n",
        "_C15 = 4.685\n",
        "_C16 = 30.89\n",
        "_C17 = 0.001481\n",
        "_C18 = 0.005\n",
        "_C19 = 1.085\n",
        "_C2 = 1000.0\n",
        "_C20 = 1.013\n",
        "_C21 = 5328.0\n",
        "_C22 = 5.8\n",
        "_C23 = 0.45\n",
        "_C24 = 2.6\n",
        "_C25 = 0.0296 \n",
        "_C26 = 100.0 \n",
        "_C27 = 1.0 \n",
        "_C28 = 1000.0 \n",
        "_C29 = 0.0004303 \n",
        "_C3 = 4536.0 \n",
        "_C30 = 9.76E-08 \n",
        "_C31 = 864.0\n",
        "_C32 = 0.543\n",
        "_C33 = 0.0815\n",
        "_C34 = 86.4 \n",
        "_C35 = 2.382\n",
        "_C36 = 30.5\n",
        "_C37 = 1.408E-08\n",
        "_C38 = 1.1341\n",
        "_C39 = 3.9365\n",
        "_C4 = 2.205 \n",
        "_C40 = 5.9352 \n",
        "_C5 = 25.2 \n",
        "_C6 = 55.6 \n",
        "_C7 = 1.0 \n",
        "_C8 = 0.0929\n",
        "_C9 = 0.123"
      ],
      "execution_count": 3,
      "outputs": []
    },
    {
      "cell_type": "code",
      "metadata": {
        "id": "X1neK5PuiyA-"
      },
      "source": [
        "obj = [0.00072, 0, 0, 0.000002, 0.00072, 5000, 0, 0, 120000, 5, 0, 0, 50]\n",
        "class CA_TANK_BOTTOM:\n",
        "    def __init__(self, Soil_type, TANK_FLUID, Swg, TANK_DIAMETER, FLUID_HEIGHT, PREVENTION_BARRIER, EnvironSensitivity, MATERIAL_COST, PRODUCTION_COST, P_lvdike,P_onsite,P_offsite,Concrete_Asphalt):\n",
        "        self.Soil_type = Soil_type\n",
        "        self.TANK_FLUID = TANK_FLUID\n",
        "        self.Swg = Swg\n",
        "        self.TANK_DIAMETER = TANK_DIAMETER\n",
        "        self.FLUID_HEIGHT = FLUID_HEIGHT\n",
        "        # self.API_COMPONENT_TYPE_NAME = API_COMPONENT_TYPE_NAME\n",
        "        self.PREVENTION_BARRIER = PREVENTION_BARRIER\n",
        "        self.EnvironSensitivity =EnvironSensitivity\n",
        "        self.MATERIAL_COST = MATERIAL_COST\n",
        "        self.PRODUCTION_COST = PRODUCTION_COST\n",
        "        self.P_lvdike = P_lvdike\n",
        "        self.P_onsite = P_onsite\n",
        "        self.P_offsite = P_offsite\n",
        "        self.Concrete_Asphalt = Concrete_Asphalt\n",
        "\n",
        "    def FC_Category(self, fc):\n",
        "        if (fc <= 10000):\n",
        "            return \"A\"\n",
        "        elif (fc <= 100000):\n",
        "            return \"B\"\n",
        "        elif (fc <= 1000000):\n",
        "            return \"C\"\n",
        "        elif (fc <= 10000000):\n",
        "            return \"D\"\n",
        "        else:\n",
        "            return \"E\"\n",
        "\n",
        "    def n_rh(self, i):\n",
        "        if (i==4):\n",
        "            return 1\n",
        "        else:\n",
        "            C36 = _C36\n",
        "            return max(pow(self.TANK_DIAMETER / C36, 2), 1)\n",
        "\n",
        "    def k_h_bottom(self):\n",
        "        k_h = [0, 0, 0]\n",
        "        if (self.Soil_type == \"Coarse Sand\"):\n",
        "            k_h[0] = 0.1\n",
        "            k_h[1] = 0.01\n",
        "            k_h[2] = 0.33\n",
        "        elif(self.Soil_type == \"Fine Sand\"):\n",
        "            k_h[0] = 0.01\n",
        "            k_h[1] = 0.001\n",
        "            k_h[2] = 0.33\n",
        "        elif(self.Soil_type == \"Very Fine Sand\"):\n",
        "            k_h[0] = pow(10, -3)\n",
        "            k_h[1] = pow(10, -5)\n",
        "            k_h[2] = 0.33\n",
        "        elif(self.Soil_type == \"Silt\"):\n",
        "            k_h[0] = pow(10, -5)\n",
        "            k_h[1] = pow(10, -6)\n",
        "            k_h[2] = 0.41\n",
        "        elif(self.Soil_type == \"Sandy Clay\"):\n",
        "            k_h[0] = pow(10, -6)\n",
        "            k_h[1] = pow(10, -7)\n",
        "            k_h[2] = 0.45\n",
        "        elif(self.Soil_type == \"Clay\"):\n",
        "            k_h[0] = pow(10, -7)\n",
        "            k_h[1] = pow(10, -8)\n",
        "            k_h[2] = 0.5\n",
        "        elif(self.Soil_type == \"Concrete-Asphalt\"):\n",
        "            k_h[0] = pow(10, -10)\n",
        "            k_h[1] = pow(10, -11)\n",
        "            k_h[2] = 0.3\n",
        "        else:\n",
        "            k_h[0] = 1\n",
        "            k_h[1] = 0.1\n",
        "            k_h[2] = 0.4\n",
        "        return k_h\n",
        "\n",
        "    def k_h_water(self):\n",
        "        C31 = _C31\n",
        "        k_h = self.k_h_bottom()\n",
        "        return C31 * (k_h[0] + k_h[1]) / 2\n",
        "\n",
        "    def dn_bottom(self, i):\n",
        "        if (i == 1):\n",
        "            if (self.PREVENTION_BARRIER):\n",
        "                dn = 3.175\n",
        "            else:\n",
        "                dn = 12.7\n",
        "        elif (i == 4):\n",
        "            dn = 250 * self.TANK_DIAMETER\n",
        "        else:\n",
        "            dn = 0\n",
        "        return dn\n",
        "\n",
        "    def rate_n_tank_bottom(self, i):\n",
        "        try:\n",
        "            C33 = _C33\n",
        "            C34 = _C34\n",
        "            C35 = _C35\n",
        "            C37 = _C37\n",
        "            C38 = _C38\n",
        "            C39 = _C39\n",
        "            C40 = _C40\n",
        "            if (self.PREVENTION_BARRIER):\n",
        "                ps= pow(self.dn_bottom(i),1.8)/(0.21*pow(0.0762,0.4))\n",
        "                if (self.k_h_prod() > C34 * pow(self.dn_bottom(i), 2)):\n",
        "                    return C33 * math.pi * self.dn_bottom(i) * math.sqrt(2 * 1 * 0.0762) * self.n_rh(i)\n",
        "                elif (self.k_h_prod() <= C37 * pow(ps,(1 / 0.74))):\n",
        "                    return C35 * 0.21 * pow(self.dn_bottom(i), 0.2) * pow(0.0762, 0.9) * pow(self.k_h_prod(),0.74) * self.n_rh(i)\n",
        "                else:\n",
        "                    m = C40 - 0.4324 * math.log10(self.dn_bottom(i)) + 0.5405 * math.log10(0.0762)\n",
        "                    return C38 * pow(10,2 * math.log10(self.dn_bottom(i)) + 0.5 * math.log10(0.0762) - 0.74 * pow((C39 * 2 * math.log10(self.dn_bottom(i)) - math.log10(self.k_h_prod())) / m, m))\n",
        "            else:\n",
        "                ps = pow(self.dn_bottom(i), 1.8) / (0.21 * pow(self.FLUID_HEIGHT, 0.4))\n",
        "                if (self.k_h_prod() > C34 * pow(self.dn_bottom(i), 2)):\n",
        "                    return C33 * math.pi * self.dn_bottom(i) * math.sqrt(2 * 1 * self.FLUID_HEIGHT) * self.n_rh(i)\n",
        "                elif (self.k_h_prod() <= C37*pow(ps,(1/0.74))):\n",
        "                    return C35 * 0.21 * pow(self.dn_bottom(i), 0.2) * pow(self.FLUID_HEIGHT, 0.9) * pow(self.k_h_prod(), 0.74) * self.n_rh(i)\n",
        "                else:\n",
        "                    m = C40-0.4324*math.log10(self.dn_bottom(i)) + 0.5405*math.log10(self.FLUID_HEIGHT)\n",
        "                    return C38*pow(10,2*math.log10(self.dn_bottom(i))+0.5*math.log10(self.FLUID_HEIGHT)-0.74*pow((C39 * 2*math.log10(self.dn_bottom(i))-math.log10(self.k_h_prod()))/m,m))\n",
        "        except Exception as e:\n",
        "            print(\"Error rate_n_tank_bottom:\", e)\n",
        "\n",
        "    def t_ld_tank_bottom(self):\n",
        "        if (self.Concrete_Asphalt):\n",
        "            return 7\n",
        "        elif (self.PREVENTION_BARRIER):\n",
        "            return 30\n",
        "        else:\n",
        "            return 360\n",
        "\n",
        "    def BBL_TOTAL_TANKBOTTOM(self):\n",
        "        return math.pi * pow(self.TANK_DIAMETER, 2) * self.FLUID_HEIGHT / (4 * _C13)\n",
        "\n",
        "    def ld_n_tank_bottom(self, i):\n",
        "        try:\n",
        "            Bbl_total_tank_bottom = (math.pi * pow(self.TANK_DIAMETER, 2) * self.FLUID_HEIGHT * _C13) / 4\n",
        "            if self.rate_n_tank_bottom(i) == 0:\n",
        "                return self.t_ld_tank_bottom()\n",
        "            else:\n",
        "                return min(float(Bbl_total_tank_bottom) / self.rate_n_tank_bottom(i), self.t_ld_tank_bottom())\n",
        "        except Exception as e:\n",
        "            print(\"Error ld_n_tank_bottom:\",e)\n",
        "\n",
        "    def Bbl_leak_n_bottom(self, i):\n",
        "        Bbl_total_tank_bottom = (math.pi * pow(self.TANK_DIAMETER, 2) * self.FLUID_HEIGHT * _C13) / (4)\n",
        "        return min(self.rate_n_tank_bottom(i) * self.ld_n_tank_bottom(i), Bbl_total_tank_bottom)\n",
        "\n",
        "    def Bbl_rupture_bottom(self):\n",
        "        Bbl_total_tank_bottom = (math.pi * pow(self.TANK_DIAMETER, 2) * self.FLUID_HEIGHT* _C13) / (4)\n",
        "        return Bbl_total_tank_bottom\n",
        "\n",
        "    def GET_PL_UL(self):\n",
        "        data = [0, 0]\n",
        "        if (self.TANK_FLUID == \"Gasoline\"):\n",
        "            data[0] = 684.018\n",
        "            data[1] = 4.01 * pow(10, -3)\n",
        "        elif(self.TANK_FLUID == \"Light Diesel Oil\"):\n",
        "            data[0] = 734.011\n",
        "            data[1] = 1.04 * pow(10, -3)\n",
        "        elif(self.TANK_FLUID == \"Heavy Diesel Oil\"):\n",
        "            data[0] = 764.527\n",
        "            data[1] = 2.46 * pow(10, -3)\n",
        "        elif(self.TANK_FLUID == \"Fuel Oil\"):\n",
        "            data[0] = 775.019\n",
        "            data[1] = 3.69 * pow(10, -2)\n",
        "        elif (self.TANK_FLUID == \"Crude Oil\"):\n",
        "            data[0] = 775.019\n",
        "            data[1] = 3.69 * pow(10, -2)\n",
        "        elif (self.TANK_FLUID == \"Heavy Crude Oil\"):\n",
        "            data[0] = 900.026\n",
        "            data[1] = 4.6 * pow(10, -2)\n",
        "        elif (self.TANK_FLUID == \"Heavy Fuel Oil\"):\n",
        "            data[0] = 900.026\n",
        "            data[1] = 4.6 * pow(10, -2)\n",
        "        else:\n",
        "            data[0] = 1000\n",
        "            data[1] = 1\n",
        "        return data\n",
        "\n",
        "    def k_h_prod(self):\n",
        "        pl_ul = self.GET_PL_UL()\n",
        "        return self.k_h_water() * (pl_ul[0] / 1000) * (1 / pl_ul[1])\n",
        "\n",
        "    def vel_s_prod(self):\n",
        "        kh = self.k_h_bottom()\n",
        "        return self.k_h_prod() / kh[2]\n",
        "\n",
        "    def t_gl_bottom(self):\n",
        "        try:\n",
        "            return self.Swg / self.vel_s_prod()\n",
        "        except:\n",
        "            return 1\n",
        "\n",
        "    def Bbl_leak_groundwater(self, i):\n",
        "        try:\n",
        "            if (self.t_gl_bottom() < self.t_ld_tank_bottom()):\n",
        "                return self.Bbl_leak_n_bottom(i) * ((self.t_ld_tank_bottom() - self.t_gl_bottom()) / self.t_ld_tank_bottom())\n",
        "            else:\n",
        "                return 0\n",
        "        except:\n",
        "            return 0\n",
        "\n",
        "    def Bbl_leak_subsoil(self, i):\n",
        "        return self.Bbl_leak_n_bottom(i) - self.Bbl_leak_groundwater(i)\n",
        "\n",
        "    def getCost(self):\n",
        "        costTANK = [0, 0, 0, 0, 0, 0]\n",
        "        if (self.EnvironSensitivity == \"High\"):\n",
        "            costTANK[0] = 10\n",
        "            costTANK[1] = 50\n",
        "            costTANK[2] = 500\n",
        "            costTANK[3] = 3000\n",
        "            costTANK[4] = 10000\n",
        "            costTANK[5] = 5000\n",
        "        elif (self.EnvironSensitivity == \"Medium\"):\n",
        "            costTANK[0] = 10\n",
        "            costTANK[1] = 50\n",
        "            costTANK[2] = 250\n",
        "            costTANK[3] = 1500\n",
        "            costTANK[4] = 5000\n",
        "            costTANK[5] = 1500\n",
        "        elif (self.EnvironSensitivity == \"Low\"):\n",
        "            costTANK[0] = 10\n",
        "            costTANK[1] = 50\n",
        "            costTANK[2] = 100\n",
        "            costTANK[3] = 500\n",
        "            costTANK[4] = 1000\n",
        "            costTANK[5] = 500\n",
        "        else:\n",
        "            costTANK[0] = 0\n",
        "            costTANK[1] = 0\n",
        "            costTANK[2] = 0\n",
        "            costTANK[3] = 0\n",
        "            costTANK[4] = 0\n",
        "            costTANK[5] = 0\n",
        "        return costTANK\n",
        "\n",
        "    def FC_leak_environ_bottom(self):\n",
        "        cost = self.getCost()\n",
        "        summa = 0\n",
        "        for i in range(1,4):\n",
        "            summa = summa +(self.Bbl_leak_groundwater(i) * cost[4] + self.Bbl_leak_subsoil(i) * cost[3])*obj[i-1]\n",
        "        if(self.TANK_FLUID == \"Water\"):\n",
        "            return 0\n",
        "        else:\n",
        "            return summa/obj[4]\n",
        "\n",
        "    def Bbl_rupture_release_bottom(self):\n",
        "        Bbl_total_tank_bottom = (math.pi * pow(self.TANK_DIAMETER, 2) * self.FLUID_HEIGHT* _C13) / (4)\n",
        "        return (Bbl_total_tank_bottom * obj[3]) / obj[4]\n",
        "\n",
        "    def Bbl_rupture_indike_bottom(self):\n",
        "        indike = self.Bbl_rupture_release_bottom() * (1 - self.P_lvdike / 100)\n",
        "        if(indike > 0):\n",
        "            return indike\n",
        "        else:\n",
        "            return 0\n",
        "\n",
        "    def Bbl_rupture_ssonsite_bottom(self):\n",
        "        onsite = self.P_onsite * (self.Bbl_rupture_release_bottom() - self.Bbl_rupture_indike_bottom()) / 100\n",
        "        if(onsite > 0):\n",
        "            return onsite\n",
        "        else:\n",
        "            return 0\n",
        "\n",
        "    def Bbl_rupture_ssoffsite_bottom(self):\n",
        "        offsite = self.P_offsite * (self.Bbl_rupture_release_bottom() - self.Bbl_rupture_indike_bottom() - self.Bbl_rupture_ssonsite_bottom()) / 100\n",
        "        if(offsite > 0):\n",
        "            return offsite\n",
        "        else:\n",
        "            return 0\n",
        "\n",
        "    def Bbl_rupture_water_bottom(self):\n",
        "        water = self.Bbl_rupture_release_bottom() - (self.Bbl_rupture_indike_bottom() + self.Bbl_rupture_ssonsite_bottom() + self.Bbl_rupture_ssoffsite_bottom())\n",
        "        if(water > 0):\n",
        "            return water\n",
        "        else:\n",
        "            return 0\n",
        "\n",
        "    def FC_rupture_environ_bottom(self):\n",
        "        cost = self.getCost()\n",
        "        if (self.TANK_FLUID == \"Water\"):\n",
        "            return 0\n",
        "        else:\n",
        "            return self.Bbl_rupture_indike_bottom() * cost[0] + self.Bbl_rupture_ssonsite_bottom() * cost[1] + self.Bbl_rupture_ssoffsite_bottom() * cost[2] + self.Bbl_rupture_water_bottom() * cost[5]\n",
        "\n",
        "    def FC_environ_bottom(self):\n",
        "        return self.FC_leak_environ_bottom() + self.FC_rupture_environ_bottom()\n",
        "\n",
        "    def FC_cmd_bottom(self):\n",
        "        summ = obj[0] * obj[5] + obj[1] * obj[6] + obj[2] * obj[7] + obj[3] * obj[8] * pow(self.TANK_DIAMETER / _C36, 2)\n",
        "        return summ * self.MATERIAL_COST / obj[4]\n",
        "\n",
        "    def FC_PROD_BOTTOM(self):\n",
        "        t = obj[0] * obj[9] + obj[1] * obj[10] + obj[2] * obj[11] + obj[3] * obj[12]\n",
        "        return t * self.PRODUCTION_COST / obj[4]\n",
        "\n",
        "    def FC_total_bottom(self):\n",
        "        FC_TOTAL_BOTTOM = self.FC_cmd_bottom() + self.FC_environ_bottom() + self.FC_PROD_BOTTOM()\n",
        "        if FC_TOTAL_BOTTOM == 0:\n",
        "            return 100000000\n",
        "        else:\n",
        "            return  FC_TOTAL_BOTTOM"
      ],
      "execution_count": 4,
      "outputs": []
    },
    {
      "cell_type": "code",
      "metadata": {
        "id": "NlwcET-ri6cW",
        "outputId": "94bd00fb-032a-42b8-d262-17e771cd3303",
        "colab": {
          "base_uri": "https://localhost:8080/"
        }
      },
      "source": [
        "rwequipment_typeofsoil = \"Clay\"\n",
        "rwstream_tankfluidname = \"Gasoline\"\n",
        "rwequipment_distancetogroundwater = 2\n",
        "rwcomponent_diameter = 2\n",
        "rwstream_fluidheight = 150\n",
        "apicomponenttypename = \"Tank\"\n",
        "rwcomponent_releasepreventionbarrier = True\n",
        "rwequipment_environmentsensitivity   = \"Low\"\n",
        "rwmaterial_costfactor = 5\n",
        "rwinputca_productioncost = 1\n",
        "rwstream_fluidleavedikepercent = 22\n",
        "rwstream_fluidleavedikeremainonsitepercent =32\n",
        "rwstream_fluidgooffsitepercent = 9\n",
        "rwcomponent_concretefoundation = False\n",
        "cacal = CA_TANK_BOTTOM(Soil_type = rwequipment_typeofsoil, TANK_FLUID=rwstream_tankfluidname, Swg=rwequipment_distancetogroundwater, TANK_DIAMETER=rwcomponent_diameter, \n",
        "                    FLUID_HEIGHT=rwstream_fluidheight,\n",
        "                    PREVENTION_BARRIER=bool(rwcomponent_releasepreventionbarrier), EnvironSensitivity=rwequipment_environmentsensitivity, MATERIAL_COST=rwmaterial_costfactor,\n",
        "                    PRODUCTION_COST=rwinputca_productioncost, P_lvdike=rwstream_fluidleavedikepercent, P_onsite = rwstream_fluidleavedikeremainonsitepercent,\n",
        "                    P_offsite = rwstream_fluidgooffsitepercent, Concrete_Asphalt = rwcomponent_concretefoundation)\n",
        "\n",
        "a = cacal.FC_total_bottom()\n",
        "print(a)"
      ],
      "execution_count": 92,
      "outputs": [
        {
          "output_type": "stream",
          "text": [
            "26547.627095855325\n"
          ],
          "name": "stdout"
        }
      ]
    },
    {
      "cell_type": "code",
      "metadata": {
        "id": "sYMg3Kmii_kR",
        "outputId": "0dcb8ec9-c0d4-4059-92ff-13950d0ba5d7",
        "colab": {
          "base_uri": "https://localhost:8080/"
        }
      },
      "source": [
        "cacal.FC_total_bottom()"
      ],
      "execution_count": 30,
      "outputs": [
        {
          "output_type": "execute_result",
          "data": {
            "text/plain": [
              "27334.824239925973"
            ]
          },
          "metadata": {
            "tags": []
          },
          "execution_count": 30
        }
      ]
    },
    {
      "cell_type": "code",
      "metadata": {
        "id": "jqHVRaAxkLL-",
        "outputId": "547d89cc-334b-4739-c321-f509e579e647",
        "colab": {
          "base_uri": "https://localhost:8080/"
        }
      },
      "source": [
        "z = predictHeightFluid(rwstream_fluidleavedikepercent/100, rwstream_fluidleavedikeremainonsitepercent/100, rwstream_fluidgooffsitepercent/100, 88/100)\n",
        "z"
      ],
      "execution_count": 68,
      "outputs": [
        {
          "output_type": "execute_result",
          "data": {
            "text/plain": [
              "100"
            ]
          },
          "metadata": {
            "tags": []
          },
          "execution_count": 68
        }
      ]
    },
    {
      "cell_type": "code",
      "metadata": {
        "id": "aDb8-Dxrk3VX"
      },
      "source": [
        "def kq2(per,x,y,z):\n",
        "  _per = per\n",
        "  h2 = rwstream_fluidheight * _per\n",
        "  # print(h2)\n",
        "  rwstream_fluidleavedikepercent = x\n",
        "  rwstream_fluidleavedikeremainonsitepercent =y\n",
        "  rwstream_fluidgooffsitepercent = z\n",
        "  cacal2 = CA_TANK_BOTTOM(Soil_type = rwequipment_typeofsoil, TANK_FLUID=rwstream_tankfluidname, Swg=rwequipment_distancetogroundwater, TANK_DIAMETER=rwcomponent_diameter, \n",
        "                      FLUID_HEIGHT=h2,\n",
        "                      PREVENTION_BARRIER=bool(rwcomponent_releasepreventionbarrier), EnvironSensitivity=rwequipment_environmentsensitivity, MATERIAL_COST=rwmaterial_costfactor,\n",
        "                      PRODUCTION_COST=rwinputca_productioncost, P_lvdike=rwstream_fluidleavedikepercent, P_onsite = rwstream_fluidleavedikeremainonsitepercent,\n",
        "                      P_offsite = rwstream_fluidgooffsitepercent, Concrete_Asphalt = rwcomponent_concretefoundation)\n",
        "  b = cacal2.FC_total_bottom()\n",
        "  # print(b)\n",
        "  # print(b/a)\n",
        "  return(b)"
      ],
      "execution_count": 80,
      "outputs": []
    },
    {
      "cell_type": "code",
      "metadata": {
        "id": "iRK6vAuSnSh1"
      },
      "source": [
        "def kq1(x,y,z):\n",
        "  rwstream_fluidleavedikepercent = x\n",
        "  rwstream_fluidleavedikeremainonsitepercent =y\n",
        "  rwstream_fluidgooffsitepercent = z\n",
        "  cacal = CA_TANK_BOTTOM(Soil_type = rwequipment_typeofsoil, TANK_FLUID=rwstream_tankfluidname, Swg=rwequipment_distancetogroundwater, TANK_DIAMETER=rwcomponent_diameter, \n",
        "                    FLUID_HEIGHT=rwstream_fluidheight,\n",
        "                    PREVENTION_BARRIER=bool(rwcomponent_releasepreventionbarrier), EnvironSensitivity=rwequipment_environmentsensitivity, MATERIAL_COST=rwmaterial_costfactor,\n",
        "                    PRODUCTION_COST=rwinputca_productioncost, P_lvdike=rwstream_fluidleavedikepercent, P_onsite = rwstream_fluidleavedikeremainonsitepercent,\n",
        "                    P_offsite = rwstream_fluidgooffsitepercent, Concrete_Asphalt = rwcomponent_concretefoundation)\n",
        "  return cacal.FC_total_bottom()\n"
      ],
      "execution_count": 81,
      "outputs": []
    },
    {
      "cell_type": "code",
      "metadata": {
        "id": "pu1XuaPfnrTK",
        "outputId": "c82c562f-83aa-48d8-de76-92fceeba099f",
        "colab": {
          "base_uri": "https://localhost:8080/"
        }
      },
      "source": [
        "a = []\n",
        "for x in range(0,100,5):\n",
        "  for y in range(0,100,5):\n",
        "    for z in range(0,100,5):\n",
        "        for o in range(80,95,2):\n",
        "          pre = predictHeightFluid(x/100, y/100, z/100, o/100)\n",
        "          thucte = kq2(pre/100,x,y,z) / kq1(x,y,z)\n",
        "          if(pre == 100):\n",
        "            continue\n",
        "          if ((o+3)>thucte*100):\n",
        "            print(x,y,z,o, pre/100,  thucte*100)"
      ],
      "execution_count": 94,
      "outputs": [
        {
          "output_type": "stream",
          "text": [
            "80 0 0 94 0.72 96.82533678378162\n",
            "80 0 5 94 0.72 96.93787317134066\n",
            "80 5 0 94 0.72 96.95201199912962\n",
            "85 0 0 92 0.58 94.98245545958079\n",
            "85 0 0 94 0.72 96.65497030638718\n",
            "85 0 5 94 0.72 96.77293424971953\n",
            "85 0 10 94 0.72 96.89203243834007\n",
            "85 5 0 94 0.72 96.78775916017659\n",
            "85 5 5 94 0.72 96.90101098304838\n",
            "85 10 0 94 0.72 96.9219861306951\n",
            "90 0 0 90 0.44 92.97385241413684\n",
            "90 0 0 92 0.58 94.73038931060263\n",
            "90 0 0 94 0.72 96.48692620706842\n",
            "90 0 5 92 0.58 94.91524420333842\n",
            "90 0 5 94 0.72 96.6101628022256\n",
            "90 0 10 94 0.72 96.73464610989866\n",
            "90 5 0 92 0.58 94.93848197474318\n",
            "90 5 0 94 0.72 96.62565464982879\n",
            "90 5 5 94 0.72 96.7440331437706\n",
            "90 10 0 94 0.72 96.7659639554536\n",
            "90 10 5 94 0.72 96.87936786300874\n",
            "95 0 0 86 0.16 88.96347196147023\n",
            "95 0 0 88 0.3 90.80289330122521\n",
            "95 0 0 90 0.44 92.64231464098016\n",
            "95 0 0 92 0.58 94.48173598073512\n",
            "95 0 0 94 0.72 96.32115732049009\n",
            "95 0 5 90 0.44 92.89903276670113\n",
            "95 0 5 92 0.58 94.67427457502583\n",
            "95 0 5 94 0.72 96.44951638335057\n",
            "95 0 10 92 0.58 94.86885626274169\n",
            "95 0 10 94 0.72 96.57923750849446\n",
            "95 0 15 94 0.72 96.71034249153105\n",
            "95 0 20 94 0.72 96.84285359559217\n",
            "95 5 0 90 0.44 92.93131318731646\n",
            "95 5 0 92 0.58 94.69848489048735\n",
            "95 5 0 94 0.72 96.46565659365824\n",
            "95 5 5 92 0.58 94.8835331586328\n",
            "95 5 5 94 0.72 96.58902210575519\n",
            "95 5 10 94 0.72 96.71363803832607\n",
            "95 5 15 94 0.72 96.83952349941445\n",
            "95 5 20 94 0.72 96.96669798838478\n",
            "95 10 0 92 0.58 94.91782473401197\n",
            "95 10 0 94 0.72 96.61188315600798\n",
            "95 10 5 94 0.72 96.7301289666254\n",
            "95 10 10 94 0.72 96.84951646735044\n",
            "95 10 15 94 0.72 96.97006227330974\n"
          ],
          "name": "stdout"
        }
      ]
    }
  ]
}